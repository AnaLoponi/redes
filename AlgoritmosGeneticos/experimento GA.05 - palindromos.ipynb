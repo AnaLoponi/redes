{
 "cells": [
  {
   "cell_type": "markdown",
   "metadata": {},
   "source": [
    "## Novos palíndromos"
   ]
  },
  {
   "cell_type": "markdown",
   "metadata": {},
   "source": [
    "## Introdução\n",
    "\n"
   ]
  },
  {
   "cell_type": "markdown",
   "metadata": {},
   "source": [
    "Um palíndromo é uma palavra, número, frase ou outra sequência de símbolos que pode ser lida da mesma forma de trás para frente e de frente para trás. Por exemplo, \"Ana\", \"coche de carreras\" e \"A man, a plan, a canal - Panama\" são palíndromos. As frases palindrômicas geralmente perdem seu significado quanto mais longas são.\n",
    "\n",
    "Nosso objetivo é identificar palíndromos, com algumas diretrizes e limites. Eles devem ter cinco letras, e não necessariamente precisam ser uma palavra em portugês.\n",
    "\n",
    "Como faremos isso?"
   ]
  },
  {
   "cell_type": "markdown",
   "metadata": {},
   "source": [
    "## Objetivo\n",
    "\n"
   ]
  },
  {
   "cell_type": "markdown",
   "metadata": {},
   "source": [
    "Encontre pelo menos 10 palíndromos de 5 letras. Estes palíndromos devem ter pelo menos uma vogal."
   ]
  },
  {
   "cell_type": "markdown",
   "metadata": {},
   "source": [
    "## Importações\n",
    "\n"
   ]
  },
  {
   "cell_type": "markdown",
   "metadata": {},
   "source": [
    "Todos os comandos de `import` devem estar dentro desta seção.\n",
    "\n"
   ]
  },
  {
   "cell_type": "code",
   "execution_count": 1,
   "metadata": {},
   "outputs": [],
   "source": [
    "# Vamos importar as funções?\n",
    "from funcoes import populacao_inicial_senha\n",
    "from funcoes import funcao_objetivo_palindromo\n",
    "from funcoes import funcao_objetivo_pop_palindromo\n",
    "from funcoes import selecao_torneio_min\n",
    "from funcoes import cruzamento_ponto_simples as funcao_cruzamento\n",
    "from funcoes import mutacao_palindromo\n",
    "import random"
   ]
  },
  {
   "cell_type": "markdown",
   "metadata": {},
   "source": [
    "## Códigos e discussão\n",
    "\n"
   ]
  },
  {
   "cell_type": "markdown",
   "metadata": {
    "jp-MarkdownHeadingCollapsed": true,
    "tags": []
   },
   "source": [
    "É possível solucionar esse problema utilizando dos Algoritmos Genéticos e também, da estratégia utilizada no experimento A.05 - descobrindo a senha. Serão utilizados os três operadores: Seleção, Cruzamento e Mutação.\n",
    "Por meio da utilização do fitness identificamos a aptidão do individuo para o nosso problema. "
   ]
  },
  {
   "cell_type": "markdown",
   "metadata": {},
   "source": [
    "A fim de executar o algoritmo genético, são estabelecidas as constantes gerais do problema, tais como o tamanho da população, o número de gerações, a probabilidade de cruzamento e mutação, além do número de genes (letras) que serão usados no torneio para determinar quais letras apresentam o menor \"fitness\" para a resolução do problema. Nesta seção, também especificamos o tamanho dos palíndromos e definimos o que são letras vogais e consoantes dentro do conjunto de letras possíveis a serem utilizadas."
   ]
  },
  {
   "cell_type": "code",
   "execution_count": 5,
   "metadata": {},
   "outputs": [],
   "source": [
    "### CONSTANTES\n",
    "# relacionadas à busca\n",
    "TAMANHO_POP = 50\n",
    "NUM_GERACOES = 2000\n",
    "CHANCE_CRUZAMENTO = 0.5\n",
    "CHANCE_MUTACAO = 0.05\n",
    "NUM_COMBATENTES_NO_TORNEIO = 3\n",
    "\n",
    "\n",
    "# Palindromo\n",
    "LETRAS_POSSIVEIS = \"abcdefghijklmnopqrstuvwxyz\"\n",
    "LETRAS_VOGAIS = \"aeiou\"\n",
    "LETRAS_CONSOANTES = \"bcdfghjklmnpqrstvwxyz\"\n",
    "tamanho_palindromo = 5"
   ]
  },
  {
   "cell_type": "markdown",
   "metadata": {},
   "source": [
    "Posteriormente, são criadas as funções locais para a geração da população inicial, que é formada com base nas constantes estabelecidas. Isso inclui a função objetivo da população, responsável por receber um indivíduo e retornar seu valor de aptidão. Além disso, temos a função de seleção, que determina quais genes serão passados para as próximas gerações com base no valor de aptidão, e a função de mutação, que permite que os genes dos indivíduos selecionados tenham uma chance de alterar seu valor."
   ]
  },
  {
   "cell_type": "code",
   "execution_count": 6,
   "metadata": {},
   "outputs": [],
   "source": [
    "# funções locais\n",
    "def cria_populacao_inicial(tamanho, tamanho_palindromo):\n",
    "    return populacao_inicial_senha(tamanho, tamanho_palindromo, LETRAS_POSSIVEIS)\n",
    "\n",
    "def funcao_objetivo_pop(populacao):\n",
    "    return funcao_objetivo_pop_palindromo(populacao)\n",
    "\n",
    "def funcao_selecao(populacao, fitness):\n",
    "    return selecao_torneio_min(populacao, fitness, NUM_COMBATENTES_NO_TORNEIO)\n",
    "\n",
    "def funcao_mutacao(individuo):\n",
    "    return mutacao_palindromo(individuo, LETRAS_POSSIVEIS)"
   ]
  },
  {
   "cell_type": "markdown",
   "metadata": {},
   "source": [
    "Após definir as constantes e funções, a primeira linha de código é responsável por criar a população com base nas constantes estabelecidas. Essa população consiste em até 50 indivíduos, cujos genes estão limitados ao tamanho máximo do palíndromo.\n",
    "\n",
    "Em seguida, o código entra em um loop que percorre o número total de gerações estabelecido inicialmente. Durante esse processo, os indivíduos da população trocam informações genéticas através do cruzamento definido, gerando novos indivíduos que visam solucionar o problema proposto.\n",
    "\n",
    "Todo o processo é avaliado pelo fitness, que é uma função responsável por calcular o valor de aptidão de cada indivíduo. O valor de aptidão é determinado comparando a palavra original com o possível palíndromo. Se as duas forem idênticas quando lidas de trás para frente (indicado pelo código como uma sendo o inverso da outra), temos um palíndromo. Além disso, é estabelecido como condição para o algoritmo apresentar uma resposta que o palíndromo contenha pelo menos uma vogal."
   ]
  },
  {
   "cell_type": "code",
   "execution_count": 8,
   "metadata": {},
   "outputs": [
    {
     "name": "stdout",
     "output_type": "stream",
     "text": [
      "[['h', 'f', 'w', 'f', 'x'], ['t', 'l', 'u', 'a', 'r'], ['l', 'z', 'j', 'n', 'k'], ['r', 'v', 'z', 'o', 'd'], ['x', 'k', 'k', 'o', 'b'], ['j', 'z', 'f', 'm', 'i'], ['n', 'j', 'v', 'h', 'n'], ['v', 'v', 'l', 'n', 'f'], ['k', 'k', 'z', 'i', 'w'], ['i', 'j', 'o', 'f', 'k'], ['e', 'o', 'r', 'f', 'f'], ['h', 'y', 'g', 'f', 'u'], ['f', 'o', 't', 'x', 'l'], ['z', 'u', 'f', 'v', 'f'], ['i', 'a', 'v', 'e', 'u'], ['s', 'v', 'f', 'y', 'l'], ['u', 'c', 'i', 'w', 't'], ['q', 'n', 'k', 'a', 'e'], ['z', 'o', 'v', 'o', 'v'], ['o', 'x', 'o', 'q', 'f'], ['m', 'r', 'n', 't', 'w'], ['u', 'd', 'e', 'l', 'd'], ['s', 'm', 'e', 'o', 'q'], ['x', 'q', 'r', 'z', 'o'], ['f', 'c', 'a', 'r', 'n'], ['d', 'v', 'o', 'x', 'd'], ['t', 'e', 'm', 's', 'c'], ['a', 'l', 'u', 's', 'z'], ['x', 'h', 'j', 'u', 'b'], ['p', 's', 'l', 'z', 'e'], ['o', 'b', 'n', 'd', 'l'], ['e', 'j', 'c', 'f', 'w'], ['a', 'q', 'x', 'v', 'i'], ['c', 's', 'f', 'w', 'e'], ['x', 'd', 'e', 'w', 'f'], ['h', 'w', 't', 'b', 'k'], ['j', 'x', 'y', 'u', 'n'], ['i', 'o', 'h', 'd', 'o'], ['q', 'a', 'h', 'c', 'l'], ['e', 'y', 'g', 'z', 'f'], ['v', 'd', 'v', 'q', 'g'], ['s', 'n', 'i', 'e', 'a'], ['g', 'e', 's', 'x', 'b'], ['r', 's', 'k', 'q', 't'], ['i', 'd', 'b', 'y', 'i'], ['z', 's', 'l', 'r', 'm'], ['g', 'n', 'd', 'l', 'w'], ['z', 'l', 't', 'q', 'w'], ['c', 'u', 'l', 'v', 'g'], ['w', 'f', 'y', 't', 's']]\n",
      "\n",
      "Os 10 palindromos selecionados pelo nosso algoritmo são os: {'iynyi', 'iygyi', 'idgdi', 'iyxyi', 'iyoyi', 'odhdo', 'idhdi', 'iyyyi', 'iykyi', 'iydyi'}\n"
     ]
    }
   ],
   "source": [
    "populacao = cria_populacao_inicial(TAMANHO_POP, tamanho_palindromo)\n",
    "print(populacao)\n",
    "\n",
    "melhor_fitness_ja_visto = float(\"inf\") \n",
    "\n",
    "palindromosmos = set()\n",
    "\n",
    "while len(palindromosmos) != 10:   \n",
    "    \n",
    "    # Seleção\n",
    "    fitness = funcao_objetivo_pop(populacao)\n",
    "    populacao = funcao_selecao(populacao, fitness)\n",
    "    \n",
    "    # Cruzamento\n",
    "    pais = populacao[0::2]\n",
    "    maes = populacao[1::2]\n",
    "    \n",
    "    contador = 0\n",
    "    \n",
    "    for pai, mae in zip(pais, maes):\n",
    "        if random.random() <= CHANCE_CRUZAMENTO:\n",
    "            filho1, filho2 = funcao_cruzamento(pai, mae)\n",
    "            populacao[contador] = filho1\n",
    "            populacao[contador + 1] = filho2\n",
    "        \n",
    "        contador = contador + 2   \n",
    "        \n",
    "    # Mutação\n",
    "    for n in range(len(populacao)):\n",
    "        if random.random() <= CHANCE_MUTACAO:\n",
    "            individuo = populacao[n]\n",
    "            populacao[n] = funcao_mutacao(individuo)            \n",
    "                    \n",
    " # melhor individuo já visto até agora\n",
    "    fitness = funcao_objetivo_pop(populacao)\n",
    "    menor_fitness = min(fitness)\n",
    "    if menor_fitness == 0:        \n",
    "        posicao = fitness.index(menor_fitness)\n",
    "        melhor_individuo_ja_visto = ''.join(populacao[posicao]) #puxa o elemento com index e unifica a string\n",
    "        palindromosmos.add(melhor_individuo_ja_visto) #adiciona ao conjunto\n",
    "\n",
    "print()\n",
    "print(f\"Os 10 palindromos selecionados pelo nosso algoritmo são os: {palindromosmos}\")"
   ]
  },
  {
   "cell_type": "markdown",
   "metadata": {},
   "source": [
    "## Conclusão\n",
    "\n"
   ]
  },
  {
   "cell_type": "markdown",
   "metadata": {},
   "source": [
    "Este experimento é semelhante ao descrito na seção A.5, porém aborda um problema de palíndromos em strings, que são palavras que podem ser lidas da mesma forma tanto de trás para frente quanto de frente para trás, como, por exemplo, \"MOM\". No entanto, neste caso, temos uma restrição específica para os palíndromos: identificar pelo menos 10 palíndromos de 5 letras que contenham pelo menos uma vogal. Portanto, para resolver esse problema, é necessário estabelecer o nosso fitness e função objetivo que irão solucioná-lo.\n",
    "\n",
    "Decidiu-se que os palíndromos são, na verdade, o inverso dos indivíduos - ou seja, a palavra é igual ao seu inverso. Além disso, cria-se uma lista de possíveis palíndromos a partir do indivíduo.\n",
    "\n",
    "Em seguida, realiza-se uma comparação entre essas duas listas (indivíduo e possíveis palíndromos) para verificar se são idênticas. Se não forem, uma penalização é aplicada. Posteriormente, verifica-se se há pelo menos uma vogal na lista de palíndromos. Caso haja, a penalização não é aplicada. As palavras com menor penalização apresentam um melhor fitness para resolver o problema e, consequentemente, são aquelas que solucionam o objetivo de encontrar 10 palíndromos de cinco letras, com pelo menos uma vogal."
   ]
  },
  {
   "cell_type": "markdown",
   "metadata": {},
   "source": [
    "## Playground\n",
    "\n"
   ]
  }
 ],
 "metadata": {
  "kernelspec": {
   "display_name": "ilumpy",
   "language": "python",
   "name": "ilumpy"
  },
  "language_info": {
   "codemirror_mode": {
    "name": "ipython",
    "version": 3
   },
   "file_extension": ".py",
   "mimetype": "text/x-python",
   "name": "python",
   "nbconvert_exporter": "python",
   "pygments_lexer": "ipython3",
   "version": "3.9.7"
  },
  "org": null
 },
 "nbformat": 4,
 "nbformat_minor": 4
}
