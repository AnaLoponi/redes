{
 "cells": [
  {
   "cell_type": "markdown",
   "metadata": {},
   "source": [
    "Aplicando restrições na busca\n",
    "=============================\n",
    "\n"
   ]
  },
  {
   "cell_type": "markdown",
   "metadata": {},
   "source": [
    "## Introdução\n",
    "\n"
   ]
  },
  {
   "cell_type": "markdown",
   "metadata": {},
   "source": [
    "Muitos problemas de otimização com relevância científica têm uma ou mais `restrições` que devem ser levadas em consideração na hora de resolver o problema.\n",
    "\n",
    "Lembra do `problema da mochila` que vimos em Lógica Computacional? Era um problema de otimização onde queríamos maximizar o valor dos itens colocados na mochila enquanto observávamos a restrição do peso total dos itens (do contrário, a mochila rasgava).\n",
    "\n",
    "Uma forma de considerar essas restrições nos problemas é aplicando uma `penalidade` na função objetivo.\n",
    "\n",
    "Vamos pensar como seria essa penalidade no problema da mochila: a função objetivo é maximizar o valor dos itens na mochila, então é um problema de maximização. A função objetivo pode ser a soma dos itens da mochila. Se fosse só isso, teríamos\n",
    "\n",
    "$$\n",
    "f = \\sum_{i, i \\in \\mathrm{mochila}}\\mathrm{valor}(i)\n",
    "$$\n",
    "\n",
    "No entanto, apenas essa função não resolve o problema! Precisamos levar em consideração o limite de peso da mochila! Para isso, penalizamos a função objetivo levando em consideração essa restrição:\n",
    "\n",
    "$f=\\begin{cases}\n",
    "0.01 & \\textrm{se peso > limite da mochila}\\\\\n",
    "\\sum_{i,i\\in\\mathrm{mochila}}(\\mathrm{valor}(i)) & \\textrm{se peso} \\leq \\textrm{limite da mochila}\n",
    "\\end{cases}$\n",
    "\n",
    "Agora finalmente podemos seguir em frente e resolver o problema.\n",
    "\n"
   ]
  },
  {
   "cell_type": "markdown",
   "metadata": {},
   "source": [
    "## Reflexões\n",
    "\n"
   ]
  },
  {
   "cell_type": "markdown",
   "metadata": {},
   "source": [
    "Se usarmos a equação de $f$ acima, qual será o valor de $f$ caso não exista uma solução para um certo problema da mochila?\n",
    "\n",
    "Na equação de $f$ acima nós usamos um valor práximo de zero para indicar que uma restrição do problema não foi satisfeita. Você consegue pensar em outra estratégia para penalizar soluções inválidas?\n",
    "\n"
   ]
  },
  {
   "cell_type": "markdown",
   "metadata": {},
   "source": [
    "## Objetivo\n",
    "\n"
   ]
  },
  {
   "cell_type": "markdown",
   "metadata": {},
   "source": [
    "Encontrar uma solução para o problema da mochila usando algoritmos genéticos. Considere que existem 10 itens diferentes (com pesos e valores diferentes) disponíveis para serem escolhidos.\n",
    "\n"
   ]
  },
  {
   "cell_type": "markdown",
   "metadata": {},
   "source": [
    "## Descrição do problema\n",
    "\n"
   ]
  },
  {
   "cell_type": "markdown",
   "metadata": {},
   "source": [
    "No problema da mochila você tem um número $n$ de itens disponíveis, cada um com um peso e um valor associado. Sua mochila tem a capacidade de carregar um número $p$ de quilogramas, sendo que mais que isso faz com que sua mochila rasgue e todos os itens dentro dela caiam no chão e se quebrem de maneira catastrófica (indesejado). Sua tarefa é encontrar um conjunto de itens (considerando os $n$ disponíveis) que maximize o valor contido dentro da mochila, porém que tenham um peso dentro da capacidade da mesma.\n",
    "\n"
   ]
  },
  {
   "cell_type": "markdown",
   "metadata": {},
   "source": [
    "## Importações\n",
    "\n"
   ]
  },
  {
   "cell_type": "markdown",
   "metadata": {},
   "source": [
    "Importação da função 'random' e reutilização de funções criadas no arquivo 'funcoes.py', pois ainda são úteis para a resolução deste experimento."
   ]
  },
  {
   "cell_type": "code",
   "execution_count": 5,
   "metadata": {},
   "outputs": [],
   "source": [
    "import random\n",
    "\n",
    "from funcoes import computa_mochila\n",
    "from funcoes import funcao_objetivo_pop_mochila\n",
    "from funcoes import populacao_cb as cria_populacao_inicial\n",
    "from funcoes import selecao_roleta_max as funcao_selecao\n",
    "from funcoes import cruzamento_ponto_simples as funcao_cruzamento\n",
    "from funcoes import mutacao_cb as funcao_mutacao"
   ]
  },
  {
   "cell_type": "markdown",
   "metadata": {},
   "source": [
    "## Códigos e discussão\n",
    "\n"
   ]
  },
  {
   "cell_type": "markdown",
   "metadata": {},
   "source": [
    "Precisamos encontrar uma solução para que uma mochila - _que aguenta até 15 unidades de massa_ - guarde a maior quantidade de produtos, e, que ainda tenha o valor monetário mais alto possível, ou seja, os produtos mais caros da lista (temos um problema de maximização).\n",
    "\n",
    "Contudo, não podemos nos esquecer do **peso** (nosso limitador). Sendo assim, devemos lembrar que nem sempre o maior conjunto de produtos que tem o valor mais alto, se encaixa necessariamente em até 15 (Unidades de Massa). Não devemos ultrapassar o peso, caso contrário: _\"mais que isso faz com que sua mochila rasgue e todos os itens dentro dela caiam no chão e se quebrem de maneira catastrófica\"_ \n",
    "**:(**\n",
    "\n",
    "A intenção é utilizar uma lógica já contruída no problema das caixas binárias. Nossa mochila será representada pelos produtos escolhidos a partir deste dicionário.\n",
    "\n",
    "Para começar, definimos constantes relacionadas à busca, e ao problema em questão.  Se alteradas, as funções mudam a problemática e afetam a eficiência do algoritmo.\n"
   ]
  },
  {
   "cell_type": "code",
   "execution_count": 6,
   "metadata": {},
   "outputs": [],
   "source": [
    "### CONSTANTES\n",
    "\n",
    "# relacionadas à busca, apropriadas do nosso problema das caixas binárias\n",
    "TAMANHO_POP = 20 # tamanho da população\n",
    "NUM_GERACOES = 100 # número total de gerações\n",
    "CHANCE_CRUZAMENTO = 0.5 # chance de indivíduos geradores\n",
    "CHANCE_MUTACAO = 0.05 # chance de genes mutados\n",
    "\n",
    "# relacionadas ao problema a ser resolvido\n",
    "# se alteradas, afetam totalmente o experimento, já que estamos tratando do nosso fator limitante.\n",
    "LIMITE_DE_PESO = 15\n",
    "OBJETOS = {\n",
    "    # dicionário baseado no que vocês enviaram na aula de Lógica\n",
    "\n",
    "    \"vinil falsificado da volta do One Direction\": {\n",
    "        \"peso\": 2,\n",
    "        \"valor\": 2500,\n",
    "    },\n",
    "    \"Harry Potter: ele voltou, confia!\": {\n",
    "        \"peso\": 3,\n",
    "        \"valor\": 1500,\n",
    "    },\n",
    "    \"Quadrinho super raro do Aranha-Homem da vida real\": {\n",
    "        \"peso\": 3,\n",
    "        \"valor\": 7000,\n",
    "    },\n",
    "    \"mesa dobrável para laptop\": {\n",
    "        \"peso\": 3,\n",
    "        \"valor\": 150,\n",
    "    },\n",
    "    \"tablet\": {\n",
    "        \"peso\": 0.6,\n",
    "        \"valor\": 2400,\n",
    "    },\n",
    "    \"teclado musical\": {\n",
    "        \"peso\": 3.5,\n",
    "        \"valor\": 3000,\n",
    "    },\n",
    "    \"bicicleta\": {\n",
    "        \"peso\": 16,\n",
    "        \"valor\": 1000,\n",
    "    },\n",
    "    \"lições em dia\": {\n",
    "        \"peso\": 8,\n",
    "        \"valor\": 5000,\n",
    "    },\n",
    "    \"energético\": {\n",
    "        \"peso\": 2,\n",
    "        \"valor\": 1500,\n",
    "    },\n",
    "    \"docinhos para o stress\": {\n",
    "        \"peso\": 5,\n",
    "        \"valor\": 3000,\n",
    "    },\n",
    "}\n",
    "NUM_OBJETOS = len(OBJETOS)\n",
    "ORDEM_DOS_NOMES = list(sorted(OBJETOS.keys())) # nomes do objetos ficarão em ordem alfabética"
   ]
  },
  {
   "cell_type": "markdown",
   "metadata": {},
   "source": [
    "Na definição das constantes, tem-se: \n",
    "- _\"TAMANHO_POP\"_, relacionada ao tamanho da população, composta por 20 indivíduos em todas as gerações. \n",
    "- _\"NUM_GERACOES\"_,  o número total de gerações a ser criado é 100.\n",
    "- _\"CHANCE_CRUZAMENTO\"_ e _\"CHANCE_MUTACAO\"_, representam indivíduos em uma população que nem sempre cruzam para gerar descendentes e genes que nem sempre sofrem mutação. \n",
    "\n",
    "Para constantes relacionadas a problemática, tem-se:\n",
    "- _\"OBJETOS\"_ que podem ser selecionados para o conjunto na mochila \n",
    "- _\"LIMITE_DE_PESO\"_ Peso máximo (15 Unidades de Massa)."
   ]
  },
  {
   "cell_type": "markdown",
   "metadata": {},
   "source": [
    "Na próxima etapa, definimos funções locais, que utilizam de valores padrões já informados e utilizados apenas neste notebook."
   ]
  },
  {
   "cell_type": "code",
   "execution_count": 7,
   "metadata": {},
   "outputs": [],
   "source": [
    "# Funções locais\n",
    "\n",
    "def funcao_objetivo_pop(populacao):\n",
    "    return funcao_objetivo_pop_mochila(\n",
    "        populacao, OBJETOS, LIMITE_DE_PESO, ORDEM_DOS_NOMES\n",
    "    )"
   ]
  },
  {
   "cell_type": "code",
   "execution_count": 8,
   "metadata": {},
   "outputs": [
    {
     "name": "stdout",
     "output_type": "stream",
     "text": [
      "Maior valor: 16400 | Peso: 13.6\n",
      "\n",
      "Você deve pegar os seguintes itens:\n",
      "+ Harry Potter: ele voltou, confia!\n",
      "+ Quadrinho super raro do Aranha-Homem da vida real\n",
      "+ docinhos para o stress\n",
      "+ tablet\n",
      "+ vinil falsificado da volta do One Direction\n",
      "\n",
      "Com isso, sua mochila terá o valor de 16400 dinheiros e peso de 13.6 unidades de massa.\n"
     ]
    }
   ],
   "source": [
    "# aqui está toda a lógica para a resolução do problema\n",
    "\n",
    "# Busca por algoritmo genético\n",
    "\n",
    "populacao = cria_populacao_inicial(TAMANHO_POP, NUM_OBJETOS)\n",
    "\n",
    "# variaveis para o hall da fama\n",
    "melhor_fitness_ja_visto = -float(\"inf\") # qualquer valor maior que menos infinito (é problema de maximização)\n",
    "melhor_individuo_ja_visto = [0] * NUM_OBJETOS # garante o melhor indivíduo na posição 0, com genes definidos\n",
    "\n",
    "\n",
    "for n in range(NUM_GERACOES):\n",
    "\n",
    "    # Seleção\n",
    "    fitness = funcao_objetivo_pop(populacao)\n",
    "    populacao = funcao_selecao(populacao, fitness)\n",
    "\n",
    "    # Cruzamento\n",
    "    pais = populacao[0::2]\n",
    "    maes = populacao[1::2]\n",
    "\n",
    "    contador = 0\n",
    "\n",
    "    for pai, mae in zip(pais, maes):\n",
    "        if random.random() <= CHANCE_CRUZAMENTO:\n",
    "            filho1, filho2 = funcao_cruzamento(pai, mae)\n",
    "            populacao[contador] = filho1\n",
    "            populacao[contador + 1] = filho2\n",
    "\n",
    "        contador = contador + 2\n",
    "\n",
    "    # Mutação\n",
    "    for n in range(len(populacao)):\n",
    "        if random.random() <= CHANCE_MUTACAO:\n",
    "            individuo = populacao[n]\n",
    "            populacao[n] = funcao_mutacao(individuo)\n",
    "\n",
    "    # melhor individuo já visto até agora (hall da fama)\n",
    "    fitness = funcao_objetivo_pop(populacao)\n",
    "    maior_fitness = max(fitness)\n",
    "    posicao = fitness.index(maior_fitness)\n",
    "    individuo = populacao[posicao].copy() # utilizamos copy() para não ter o perigo de alterar o elemento original na população.\n",
    "    valor, peso = computa_mochila(individuo, OBJETOS, ORDEM_DOS_NOMES)\n",
    "    if maior_fitness > melhor_fitness_ja_visto and peso <= LIMITE_DE_PESO: #entra no hall da fama, quem cumpre ambos os requisitos\n",
    "        melhor_fitness_ja_visto = maior_fitness\n",
    "        melhor_individuo_ja_visto = individuo\n",
    "        print(f\"Maior valor: {valor} | Peso: {peso}\")\n",
    "\n",
    "\n",
    "# reportando o melhor individuo encontrado\n",
    "print()\n",
    "print(\"Você deve pegar os seguintes itens:\") # atenção para 'if pega_ou_não', definimos 1 para pegar e 0 para não pegar.\n",
    "for pega_ou_nao, item in zip(melhor_individuo_ja_visto, ORDEM_DOS_NOMES):\n",
    "    if pega_ou_nao == 1:\n",
    "        print(\"+\", item)\n",
    "print()\n",
    "valor_total, peso_total = computa_mochila(\n",
    "    melhor_individuo_ja_visto, OBJETOS, ORDEM_DOS_NOMES\n",
    ")\n",
    "print(\n",
    "    f\"Com isso, sua mochila terá o valor de {valor_total} dinheiros \"\n",
    "    f\"e peso de {peso_total} unidades de massa.\"\n",
    ")"
   ]
  },
  {
   "cell_type": "markdown",
   "metadata": {},
   "source": [
    "## Conclusão\n",
    "\n"
   ]
  },
  {
   "cell_type": "markdown",
   "metadata": {},
   "source": [
    "O objetivo era, selecionar a maior quantidade de itens que agregam mais valor monetário em uma mochila, sem que esta, excedesse o peso máximo de 15 Unidades de massa. \n",
    "\n",
    "Recapitulando os processos feitos para a resolução deste exercício, e lembrando de algoritmos genéticos, tem-se:\n",
    "- Indivíduos são os itens do dicionário.\n",
    "- Fitness calculado, uma vez que é necessário somar valores do itens e verificar o peso da mochila, em todas as populações.\n",
    "- Encontrando o maior valor da lista de fitness, armazena-se a posição correspondente.\n",
    "- Armazenando o respectivo indivíduo como cópia, para não ocorrer risco de modificação na lista original da população.\n",
    "- Calcula e guarda o valor e peso da mochila para o indivíduo, associando o modo de seleção dos itens em 0 e 1.\n",
    "- É gerada uma lista em ordem alfabética com os itens.\n",
    "- Se o fitness encontrado para a população fosse maior que o anterior, e o peso não ultrapassasse o limite, encontra-se o melhor fitness e o melhor indivíduo. \n",
    "- Após repetir para o número máximo de gerações, e encontrarmos um resultado a cada nova melhor opção, temos o Hall da Fama.\n",
    "\n",
    "Após executar o código algumas vezes, percebe-se que esse algoritmo é probabilístico, pois obtemos novos resultados a cada compilação. E, como conversado em aula, temos um problema do tipo NP difícil, ou seja, não há um algoritmo com 100% de eficácia, sem que testem todas as possibilidades.\n",
    "\n",
    "Lembrando que, a função objetivo utiliza da ferramentas de penalização para reduzir o fitness de casos inviáveis, por exemplo, supodo que todos os itens ultrapassem o peso máximo da mochila individualmente, a penalização neste caso assumi o valor 0.01 e nenhum item é colocado na mochila."
   ]
  },
  {
   "cell_type": "markdown",
   "metadata": {},
   "source": [
    "## Playground\n",
    "\n"
   ]
  }
 ],
 "metadata": {
  "kernelspec": {
   "display_name": "ilumpy",
   "language": "python",
   "name": "ilumpy"
  },
  "language_info": {
   "codemirror_mode": {
    "name": "ipython",
    "version": 3
   },
   "file_extension": ".py",
   "mimetype": "text/x-python",
   "name": "python",
   "nbconvert_exporter": "python",
   "pygments_lexer": "ipython3",
   "version": "3.9.7"
  },
  "org": null
 },
 "nbformat": 4,
 "nbformat_minor": 4
}
