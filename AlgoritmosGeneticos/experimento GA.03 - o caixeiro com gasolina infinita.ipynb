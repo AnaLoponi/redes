{
 "cells": [
  {
   "cell_type": "markdown",
   "metadata": {},
   "source": [
    "## O caixeiro com gasolina infinita (e sem conciência ambiental)\n",
    "\n"
   ]
  },
  {
   "cell_type": "markdown",
   "metadata": {},
   "source": [
    "## Introdução\n",
    "\n"
   ]
  },
  {
   "cell_type": "markdown",
   "metadata": {},
   "source": [
    "Neste experimento, tem-se uma problemática análoga a questão do caxeiro viajante no _experimento A.06_, em que, era necessário encontrar a ordem das cidades visitadas por ele, mas com a menor distância possível (o menor fitness possível: problema de minimização).\n",
    "\n",
    "Neste caso, houveram mudanças no cenário, agora, o caixeiro tem combustível para DAR E VENDER! Ou seja, nosso objetivo é encontar o caminho mais longo, que passa pelo maior número de cidades, mas sem repetí-las(nosso limitador). Temos um problema de MAXIMIZAÇÃO!\n",
    "\n",
    "Em ambos os casos, esse é um problema do tipo NP-Difícil, pois, não encontramos um algoritmo com 100% de eficácia em sua execução."
   ]
  },
  {
   "cell_type": "markdown",
   "metadata": {},
   "source": [
    "## Objetivo"
   ]
  },
  {
   "cell_type": "markdown",
   "metadata": {},
   "source": [
    "Encontrar o caminho de maior distância no problema do caixeiro viajante com gasolina infinita.\n",
    "\n",
    "Você pode gerar as coordenadas de forma aleatória ou simplesmente usar as coordenadas que desejar. O caixeiro só anda em linha reta e apenas entre duas cidades. \n",
    "O critério de parada é a cidade inicial, de modo que ele sai, realiza a viagem mais longa e retorna a mesma cidade (a única que ele \"passa\" 2 vezes)."
   ]
  },
  {
   "cell_type": "markdown",
   "metadata": {},
   "source": [
    "## Importações\n",
    "\n"
   ]
  },
  {
   "cell_type": "code",
   "execution_count": 9,
   "metadata": {},
   "outputs": [],
   "source": [
    "import random\n",
    "import matplotlib.pyplot as plt # gráfico\n",
    "\n",
    "from itertools import permutations\n",
    "\n",
    "from funcoes import cria_cidades\n",
    "\n",
    "from funcoes import populacao_inicial_cv as cria_populacao_inicial\n",
    "from funcoes import funcao_objetivo_pop_cv\n",
    "from funcoes import funcao_objetivo_cv\n",
    "from funcoes import selecao_torneio_max as funcao_selecao # esse já temos!\n",
    "from funcoes import cruzamento_ordenado as funcao_cruzamento\n",
    "from funcoes import mutacao_de_troca as funcao_mutacao"
   ]
  },
  {
   "cell_type": "markdown",
   "metadata": {},
   "source": [
    "## Códigos e discussão\n",
    "\n"
   ]
  },
  {
   "cell_type": "code",
   "execution_count": 10,
   "metadata": {},
   "outputs": [],
   "source": [
    "### CONSTANTES\n",
    "\n",
    "# relacionadas à busca\n",
    "TAMANHO_POP = 50\n",
    "NUM_GERACOES = 1000\n",
    "CHANCE_CRUZAMENTO = 0.5\n",
    "CHANCE_MUTACAO = 0.05\n",
    "NUM_COMBATENTES_NO_TORNEIO = 3\n",
    "\n",
    "# relacionadas ao problema a ser resolvido\n",
    "NUMERO_DE_CIDADES = 10\n",
    "CIDADES = cria_cidades(NUMERO_DE_CIDADES)"
   ]
  },
  {
   "cell_type": "code",
   "execution_count": 11,
   "metadata": {},
   "outputs": [],
   "source": [
    "# Funções locais\n",
    "\n",
    "def funcao_objetivo_pop(populacao):\n",
    "    return funcao_objetivo_pop_cv(populacao, CIDADES)\n",
    "\n",
    "def funcao_objetivo_individuo(individuo):\n",
    "    return funcao_objetivo_cv(individuo, CIDADES)"
   ]
  },
  {
   "cell_type": "code",
   "execution_count": 12,
   "metadata": {},
   "outputs": [],
   "source": [
    "# Busca por algoritmo genético\n",
    "\n",
    "populacao = cria_populacao_inicial(TAMANHO_POP, CIDADES)\n",
    "\n",
    "melhor_fitness_ja_visto = -float(\"inf\")\n",
    "\n",
    "for n in range(NUM_GERACOES):\n",
    "    \n",
    "    # Seleção\n",
    "    fitness = funcao_objetivo_pop(populacao)\n",
    "    populacao = funcao_selecao(populacao, fitness)\n",
    "    \n",
    "    # Cruzamento\n",
    "    pais = populacao[0::2]\n",
    "    maes = populacao[1::2]\n",
    "    \n",
    "    contador = 0\n",
    "    \n",
    "    for pai, mae in zip(pais, maes):\n",
    "        if random.random() <= CHANCE_CRUZAMENTO:\n",
    "            filho1, filho2 = funcao_cruzamento(pai, mae)\n",
    "            populacao[contador] = filho1\n",
    "            populacao[contador + 1] = filho2\n",
    "        \n",
    "        contador = contador + 2   \n",
    "        \n",
    "    # Mutação\n",
    "    for n in range(len(populacao)):\n",
    "        if random.random() <= CHANCE_MUTACAO:\n",
    "            individuo = populacao[n]\n",
    "            populacao[n] = funcao_mutacao(individuo)            \n",
    "            \n",
    "    # melhor individuo já visto até agora\n",
    "    fitness = funcao_objetivo_pop(populacao)\n",
    "    maior_fitness = max(fitness) # problema de maximização\n",
    "    if maior_fitness > melhor_fitness_ja_visto:        \n",
    "        posicao = fitness.index(maior_fitness)\n",
    "        melhor_individuo_ja_visto = populacao[posicao]\n",
    "        melhor_fitness_ja_visto = maior_fitness"
   ]
  },
  {
   "cell_type": "code",
   "execution_count": 13,
   "metadata": {},
   "outputs": [],
   "source": [
    "# Busca testando todas as permutações\n",
    "\n",
    "melhor_fitness_ever = -float(\"inf\")\n",
    "\n",
    "# testando todas as permutações possíveis\n",
    "for caminho in permutations(list(CIDADES.keys())):\n",
    "    distancia = funcao_objetivo_individuo(caminho)\n",
    "    if distancia > melhor_fitness_ever:\n",
    "        melhor_fitness_ever = distancia\n",
    "        melhor_resposta_ever = caminho"
   ]
  },
  {
   "cell_type": "code",
   "execution_count": 14,
   "metadata": {},
   "outputs": [
    {
     "name": "stdout",
     "output_type": "stream",
     "text": [
      "\n",
      "Melhor individuo obtido por algoritmos genéticos:\n",
      "['Cidade 3', 'Cidade 8', 'Cidade 7', 'Cidade 5', 'Cidade 6', 'Cidade 4', 'Cidade 9', 'Cidade 2', 'Cidade 0', 'Cidade 1'] com distância: 5.5865989756389975\n",
      "\n",
      "Melhor individuo obtido por busca exaustiva:\n",
      "('Cidade 8', 'Cidade 9', 'Cidade 4', 'Cidade 6', 'Cidade 5', 'Cidade 7', 'Cidade 2', 'Cidade 0', 'Cidade 1', 'Cidade 3') com distância: 5.588027572364527\n"
     ]
    }
   ],
   "source": [
    "# Checando os resultados\n",
    "\n",
    "print()\n",
    "print(\"Melhor individuo obtido por algoritmos genéticos:\")\n",
    "print(melhor_individuo_ja_visto, \"com distância:\", melhor_fitness_ja_visto)\n",
    "\n",
    "print()\n",
    "print(\"Melhor individuo obtido por busca exaustiva:\")\n",
    "print(melhor_resposta_ever, \"com distância:\", melhor_fitness_ever)"
   ]
  },
  {
   "cell_type": "markdown",
   "metadata": {},
   "source": [
    "## Grafos"
   ]
  },
  {
   "cell_type": "code",
   "execution_count": 15,
   "metadata": {},
   "outputs": [
    {
     "name": "stdout",
     "output_type": "stream",
     "text": [
      "[(0.05945320167443413, 0.7290095689854615), (0.9965035876830945, 0.6337321661120522), (0.30668507616105, 0.4245488071739787), (0.5401548042915153, 0.6555189561596272), (0.1535505783179748, 0.01818311390358296), (0.6660056026026098, 0.660984660910754), (0.09647426889227173, 0.6392010749695639), (0.560720536613784, 0.5635054188392113), (0.48547626870718597, 0.6751070813706488), (0.636143564958372, 0.49737396107616505)]\n"
     ]
    }
   ],
   "source": [
    "#para ilustrar a problemática\n",
    "\n",
    "viagem = [] \n",
    "\n",
    "for i in melhor_resposta_ever:\n",
    "    viagem.append(CIDADES[str(i)])\n",
    "print(viagem)"
   ]
  },
  {
   "cell_type": "code",
   "execution_count": 16,
   "metadata": {},
   "outputs": [
    {
     "data": {
      "image/png": "[encoded data removed]",
      "text/plain": [
       "<Figure size 432x288 with 1 Axes>"
      ]
     },
     "metadata": {
      "needs_background": "light"
     },
     "output_type": "display_data"
    }
   ],
   "source": [
    "# cidades e seus respectivos nós\n",
    "\n",
    "x = [ponto[0] for ponto in viagem]\n",
    "y = [ponto[1] for ponto in viagem]\n",
    "\n",
    "for n, nome in enumerate(melhor_resposta_ever):\n",
    "    plt.annotate(nome, (x[n], y[n]), textcoords = \"offset points\", xytext=(5, -10), ha='center')\n",
    "    \n",
    "# nós\n",
    "plt.scatter(x,y)\n",
    "\n",
    "# retas\n",
    "for e in range(len(viagem)-1):\n",
    "    plt.plot([viagem[e][0], viagem[e+1][0]], [viagem[e][1], viagem[e+1][1]], 'b-')\n",
    "    \n",
    "# eixos\n",
    "plt.xlabel('X')\n",
    "plt.ylabel('Y')\n",
    "plt.title('Viagem:')\n",
    "\n",
    "plt.show()"
   ]
  },
  {
   "cell_type": "markdown",
   "metadata": {},
   "source": [
    "## Conclusão\n",
    "\n"
   ]
  },
  {
   "cell_type": "markdown",
   "metadata": {},
   "source": [
    "Como já discutido, neste experimento tem-se um problema de maximização, em que, devemos encontrar o maior caminho a ser percorrido pelo caixeiro.\n",
    "Durante a execução do código, optei pelo método de algoritmos genéticos, ou seja, um método probabilístico (em que, obtemos novos resultados a cada compilação). \n",
    "Para que isso acontecesse, a lógica do algoritmo foi alterada. Onde tinhamos variáveis buscando o menor fitness, trocamos para o maior. A função torneio mínimo também foi alterada para torneio máximo.\n",
    "\n",
    "Ao final do experimento, temos um grafo representando a trajetória do caixeiro, cumprindo as diretrizes tratadas na introdução.\n"
   ]
  },
  {
   "cell_type": "markdown",
   "metadata": {},
   "source": [
    "## Playground\n",
    "\n"
   ]
  }
 ],
 "metadata": {
  "kernelspec": {
   "display_name": "ilumpy",
   "language": "python",
   "name": "ilumpy"
  },
  "language_info": {
   "codemirror_mode": {
    "name": "ipython",
    "version": 3
   },
   "file_extension": ".py",
   "mimetype": "text/x-python",
   "name": "python",
   "nbconvert_exporter": "python",
   "pygments_lexer": "ipython3",
   "version": "3.9.7"
  },
  "org": null
 },
 "nbformat": 4,
 "nbformat_minor": 4
}
