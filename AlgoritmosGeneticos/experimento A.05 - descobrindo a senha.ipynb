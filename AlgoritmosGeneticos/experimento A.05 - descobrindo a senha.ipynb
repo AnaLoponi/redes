{
 "cells": [
  {
   "cell_type": "markdown",
   "metadata": {},
   "source": [
    "Descobrindo a senha\n",
    "===================\n",
    "\n"
   ]
  },
  {
   "cell_type": "markdown",
   "metadata": {},
   "source": [
    "## Objetivo\n",
    "\n"
   ]
  },
  {
   "cell_type": "markdown",
   "metadata": {},
   "source": [
    "Usar um algoritmo genético para descobrir uma senha.\n",
    "\n"
   ]
  },
  {
   "cell_type": "markdown",
   "metadata": {},
   "source": [
    "## Descrição do problema\n",
    "\n"
   ]
  },
  {
   "cell_type": "markdown",
   "metadata": {},
   "source": [
    "Neste problema, a função objetivo deve saber a senha correta e quantificar de alguma maneira o quão perto ou longe os palpites estão da solução (veja que isso é algo que não temos no mundo real. Nenhum site irá te dizer se você está acertando ou errando seu palpite). O critério de parada deste problema é quando a senha for descoberta.\n",
    "\n"
   ]
  },
  {
   "cell_type": "markdown",
   "metadata": {},
   "source": [
    "## Importações\n",
    "\n"
   ]
  },
  {
   "cell_type": "code",
   "execution_count": 1,
   "metadata": {},
   "outputs": [],
   "source": [
    "from funcoes import populacao_inicial_senha\n",
    "from funcoes import funcao_objetivo_pop_senha\n",
    "from funcoes import selecao_torneio_min\n",
    "from funcoes import cruzamento_ponto_simples as funcao_cruzamento\n",
    "from funcoes import mutacao_senha\n",
    "import random"
   ]
  },
  {
   "cell_type": "markdown",
   "metadata": {},
   "source": [
    "## Códigos e discussão\n",
    "\n"
   ]
  },
  {
   "cell_type": "code",
   "execution_count": 2,
   "metadata": {},
   "outputs": [],
   "source": [
    "### CONSTANTES\n",
    "\n",
    "# relacionadas à busca\n",
    "TAMANHO_POP = 50\n",
    "CHANCE_CRUZAMENTO = 0.5\n",
    "CHANCE_MUTACAO = 0.05\n",
    "NUM_COMBATENTES_NO_TORNEIO = 3\n",
    "\n",
    "# relacionadas ao problema a ser resolvido\n",
    "SENHA = \"Já comprou chocolates cacau show hoje?\"\n",
    "LETRAS_POSSIVEIS = \"abcdefghijklmnopqrstuvwxyzABCDEFGHIJKLMNOPQRSTUVWXYZ0123456789!:@.´ `á?\"\n",
    "NUM_GENES = len(SENHA)"
   ]
  },
  {
   "cell_type": "code",
   "execution_count": 3,
   "metadata": {},
   "outputs": [],
   "source": [
    "# funções locais\n",
    "\n",
    "def cria_populacao_inicial(tamanho, tamanho_senha):\n",
    "    return populacao_inicial_senha(tamanho, tamanho_senha, LETRAS_POSSIVEIS)\n",
    "\n",
    "def funcao_objetivo_pop(populacao):\n",
    "    return funcao_objetivo_pop_senha(populacao, SENHA)\n",
    "\n",
    "def funcao_selecao(populacao, fitness):\n",
    "    return selecao_torneio_min(populacao, fitness, NUM_COMBATENTES_NO_TORNEIO)\n",
    "\n",
    "def funcao_mutacao(individuo):\n",
    "    return mutacao_senha(individuo, LETRAS_POSSIVEIS)"
   ]
  },
  {
   "cell_type": "code",
   "execution_count": 4,
   "metadata": {},
   "outputs": [
    {
     "name": "stdout",
     "output_type": "stream",
     "text": [
      "Progresso da melhor senha já vista:\n",
      "CI1jiPKXA26tavEguODxo@M:KwnLsz:g HDf2n - fitness: 1037\n",
      "6  i@uqd8rWYavEguODxo@M:KwnLsz:g HDf2n - fitness: 1016\n",
      "6  i@uqd8rWYaNO5E3opl@M:KwnLscft0m5kO? - fitness: 947\n",
      "6  i@uqd8rWYavEguODxo@M:KwnLsz:g 5lbiA - fitness: 907\n",
      "CI1jiPKXA26tavEguOopl@M:KwnLscft0m5kO? - fitness: 844\n",
      "CI1jiPKd8rWYavEguOopl@M:KwnLscft0m5kO? - fitness: 803\n",
      "CI1jiPKXAu6tavEgE3opl@M:KwnLscft0mtqZD - fitness: 782\n",
      "CI1jiPKXAu6YavEguOopl@M:KwnLscft0m5kO? - fitness: 770\n",
      "CI1jiPKXAu6tavEguOopl@M:KwnLscft0mlbiA - fitness: 713\n",
      "CI1jiPKXAu6YavEguOopl@M:KwnLscft0mlbiA - fitness: 706\n",
      "CI1jiPKdAu6YavEguOopl@M:KwnLscft0mlbiA - fitness: 694\n",
      "C`1jitKXAu6YavEguOopl@M:KwnLscft0mlbiA - fitness: 661\n",
      "Cq1jitKXAu6YavEguOopl@M:KwnLscft0mlbiA - fitness: 644\n",
      "C`1jitKXAu6YavEguOopl@MnWwnLscft0mlbiA - fitness: 623\n",
      "Cq1jitKXAu6YavEguOopl@MnWwnLscft0mlbiA - fitness: 606\n",
      "C`1jitKXpu6YavEguOopl@MnWwnLscft0mlbiA - fitness: 578\n",
      "C`1jitKXpu6YavVguOopl@MnKwnLscft0mlbiA - fitness: 573\n",
      "C`1jitKXpu6YavVguOopl@MnKwn scft0mlbiA - fitness: 529\n",
      "C`1jitKXpu6YavVguRopl@MnKwn scft0mlbiA - fitness: 526\n",
      "C`1jktKXpu6YavVguRopl@MnKwn scft0mlbiA - fitness: 524\n",
      "C`1jitKXpu6YaveguRopl@MnKwn scft0mlbiA - fitness: 515\n",
      "C`1jktKXpu6YaveguRopl@MnKwn scft0mlbiA - fitness: 513\n",
      "C`1jktKXpu6YaveguRopl@MnKZn scft0mlbiA - fitness: 498\n",
      "C`1jktKXpu6YaveguRopl@MnKZs scft0mlbiA - fitness: 493\n",
      "Cp1jktKXpu6YaveguRopl@MnKZs scft0mlbiA - fitness: 477\n",
      "Cp1jktK`pu6YaveguRopl@MnKZs scft0mlbiA - fitness: 469\n",
      "Cp1jktKXpu6YaveguRopl@MnqZs scft0mlbiA - fitness: 467\n",
      "Cp1jktKepu6YaveguRopl@MnqZs scft0mlbiA - fitness: 454\n",
      "Cp1jktrXpu6YaveguRopl@MnqZs scft0mlbiA - fitness: 432\n",
      "Cp1jktrXpu6YavequRopl@MnqZs scft0mlbiA - fitness: 426\n",
      "Cp.jktrXpu6YavequRopl@MnqZs scft0mlbiA - fitness: 423\n",
      "Gp1jktrXpu6YavequRopl@MnqZs scft0mlbiA - fitness: 422\n",
      "Gp1jktrXpu3YavequRopl@MnqZs scft0mlbiA - fitness: 419\n",
      "Gp1jktrXpu6YevequRopl@MnqZs scft0mlbiA - fitness: 418\n",
      "Gp.jktrXpu6YevequRopl@MnqZs scft0mlbiA - fitness: 415\n",
      "Gp1jktrXpu3YavequRopl@MnqZs scpt0mlbiA - fitness: 411\n",
      "Gp1jktrXpu6YevequRopl@MnqZs scpt0mlbiA - fitness: 410\n",
      "Gp.jktrXpu6YevequRopl@MnqZs scpt0mlbiA - fitness: 407\n",
      "Gp.jktrXpu6YevequRopl@MnqZs scpt0klbiA - fitness: 405\n",
      "Gp.jktrXpu3YevequRopl@MnqZs scpt0mlbiA - fitness: 404\n",
      "Gp.jktrXpu3YevequRopl@MnqZs scpt0klbiA - fitness: 402\n",
      "Gp.jktrXpu0YevequRopl@MnqZs scpt0klbiA - fitness: 399\n",
      "Gp.dktrXpu3YevequRopl@MnqZs scpt0klbiA - fitness: 396\n",
      "Gp.dktrXpu0YevequRopl@MnqZs scpt0klbiA - fitness: 393\n",
      "Gp.jktrXpu3YevequRopl@hnqZs scpt0klbiA - fitness: 385\n",
      "Gp.dktrXpu3YevequRopl@hnqZs scpt0klbiA - fitness: 379\n",
      "Gp.dktrXpu3Yevequaopl@hnqZs scpt0klbiA - fitness: 364\n",
      "Gp.dktrzpu3Yevequaopl@hnqZs scpt0klbiA - fitness: 346\n",
      "Gp.dktrzpu3Yevequaopl@h`qZs scpt0klbiA - fitness: 334\n",
      "Gp.dktrzpu3Yevequappl@h`qZs scpt0klbiA - fitness: 333\n",
      "Gp.dktrzpu3Yevequappl@h`gZs scpt0klbiA - fitness: 323\n",
      "Gp.dktrzpu3gevequappl@h`gZs scpt0klbiA - fitness: 317\n",
      "Gp.dktrzpu3gevequappl5h`gZs scpt0klbiA - fitness: 306\n",
      "Gp.dktrzpu3`evequappl5h`gZs scpt0klbiA - fitness: 305\n",
      "Gp.dktrzpu3gevequappv5h`gZs scpt0klbiA - fitness: 302\n",
      "Gp.dktrzpu3gevequapav5h`gZs scpt0klbiA - fitness: 295\n",
      "Gp.dksrzpu3gevequapav5h`gZs scpt0klbiA - fitness: 294\n",
      "Gp.dktrzpu3gevequapav5h`gZs sept0klbiA - fitness: 293\n",
      "Gp.dktrzpu3gevequapav.h`gZs scpt0klbiA - fitness: 288\n",
      "Gp.dksrzpu3gevequapav.h`gZs scpt0klbiA - fitness: 287\n",
      "Gp.dmtrzpu3gevequapav.h`gZs scpt0klbiA - fitness: 286\n",
      "Gp.dksrzpu3gemequapav.h`gZs scpt0klbiA - fitness: 282\n",
      "Gp.dmtrzpu3gevequapav.h`gZs scpt0kliiA - fitness: 279\n",
      "Gp.dksrzpu3gemequapav.h`gZs scpt0kliiA - fitness: 275\n",
      "Gp.dmtrzpu3gemequapav.h`gZs scpt0kliiA - fitness: 274\n",
      "Gp.dmtrzpu3gemequapav.h`gZs scpt0klibA - fitness: 273\n",
      "Gp.dmtrvpu3gemequapav.h`gZs scpt0klibA - fitness: 269\n",
      "Gp.dmtrzpu3gemequapav.h`gZs sepw0klibA - fitness: 268\n",
      "Gp.dmtrzpu3gemequapav.h`gZs sepw0klifA - fitness: 266\n",
      "Gp.dmtrzpu3gemequapav.h`gds sepw0klibA - fitness: 264\n",
      "Gp.dmtrzpu3gemequapav.h`gds sepw0klifA - fitness: 262\n",
      "Gp.dmorzpu3gemequapav.h`gZs sepw0klifA - fitness: 261\n",
      "Gp.dmorzpu3gemequapav.h`gds sepw0klifA - fitness: 257\n",
      "Gp.dmorzpu3gemequapav.h`dds sepw0klifA - fitness: 254\n",
      "Gp.dmoozpu3gemequapav.h`dds sepw0klifA - fitness: 253\n",
      "Gp.dmoozpu3gemequapav.h`dds sepw0knifA - fitness: 251\n",
      "Gp.dmoozpu3gemeqeapav.a`dds sepw0klifA - fitness: 248\n",
      "Gw.dmoozpu3gemeqeapav.h`dds sepw0klifA - fitness: 244\n",
      "Gw.dmoozpu3gemeqeapav.a`dds sepw0klifA - fitness: 241\n",
      "Gw.dmoozpu3gemeqeapav.a`dds shpw0klifA - fitness: 238\n",
      "Gw.dmoozpu3gemeqeaphv.a`dds shpw0klifA - fitness: 237\n",
      "Gw.dmoozpu3gemeqearhv.a`dds shpw0klifA - fitness: 235\n",
      "Gw.dmoozpu3gemeqearhv!a`dds shpw0klifA - fitness: 222\n",
      "Gw.dmoozpu3gemeqearhv!a`dds shpw0knifA - fitness: 220\n",
      "Gw.dmoozpu3gemenearhv!a`dds shpw0knifA - fitness: 219\n",
      "Gw.dmoozpu3ghmeqearhv!a`dds shpw0knifA - fitness: 217\n",
      "Gw.dmoozpu3ghmenearhv!a`dds shpw0knifA - fitness: 216\n",
      "Gw.dmooxpu3ghmenearhv!a`dds shpw0knifA - fitness: 214\n",
      "Gw.dmooxpu3ghmenearhv!a`ddv shpw0knifA - fitness: 213\n",
      "Gw.dmooxpu3ghmenearhv!a`ddv shpw0fnifA - fitness: 212\n",
      "Gw.dmooxpu3ghmdnearhv!a`ddv shpw0fnifA - fitness: 211\n",
      "Hw.dmooxpu3ghmdnearhv!a`ddv shpw0fnifA - fitness: 210\n",
      "Hw.dmooxpu2ghmdnearhv!a`ddv shpw0fnifA - fitness: 209\n",
      "Hw.dmooxpu3ghmdngarhv!a`ddv shpw0fnifA - fitness: 208\n",
      "Hw.dmooxpu2ghmdngarhv!a`ddv shpw.fnifA - fitness: 205\n",
      "Hw.dmooxpu2ghpdngarhv!a`ddv shpw.fnifA - fitness: 204\n",
      "Hw.dpooxpu2ghpdngarhv!a`ddv shpw.fnifA - fitness: 203\n",
      "Hw.dmooxpu2ghpdngarhv!a`d`v shpw.fnifA - fitness: 202\n",
      "Hw.dpooxpu2ghpdngarhv!a`d`v shpw.fnifA - fitness: 201\n",
      "Hw.dpooxpu2ghpdngarhv!a`d`v show.fnifA - fitness: 200\n",
      "Hw.dpooxpu2ehpdngarhv!a`d`v show.fnifA - fitness: 198\n",
      "Hw.dpooxpu2ehpdnkarhv!a`d`v show.fnifA - fitness: 194\n",
      "Hw.dpooxpu2bhpdnkarhv!a`d`v show.fnifA - fitness: 193\n",
      "Hw.dpooxpu2bhpdnkarhr!a`d`v show.fnifA - fitness: 191\n",
      "Hw.dpooxpu0bhpdnkarhr!a`d`v show.fnifA - fitness: 189\n",
      "Hw.dpooxpu.bhpdnkarhr!a`d`v show.fnifA - fitness: 187\n",
      "Há.dpooxpu0bhpdnkathr!a`d`v show.fnifA - fitness: 81\n",
      "Há.dpooxpu0bhpdokathr!a`d`v show.fnifA - fitness: 80\n",
      "Há!dpooxpu0bhpdokathr!a`d`v show.fnifA - fitness: 67\n",
      "Há!dpooxpu0bhpdokater!a`d`v show.jnifA - fitness: 64\n",
      "Há!doooxpu0bhpdokater!a`d`v show.jnifA - fitness: 63\n",
      "Há!doooxpu0bhpdokates!a`d`v show.jnifA - fitness: 62\n",
      "Há!dooovpu0bhpdokates!a`d`v show.jnifA - fitness: 60\n",
      "Há!dooovpu0bhpdokates!a`d`v show.jnieA - fitness: 59\n",
      "Há!dooovpu0chpdokates!a`d`v show.jnieA - fitness: 58\n",
      "Há!doopvpu0chpdokates!a`d`v show.jnieA - fitness: 57\n",
      "Já!dooovpu0chpdokates!a`d`v show.jnieA - fitness: 56\n",
      "Já!doopvpu0chpdokates!a`d`v show.jnieA - fitness: 55\n",
      "Já!dompvpu0chpdokates!a`d`v show.jnieA - fitness: 53\n",
      "Já!dompvpu.chpdokates!a`d`v show.jnieA - fitness: 51\n",
      "Já!dompvpu.chpcokates!a`d`v show.jnieA - fitness: 50\n",
      "Já!dompvpu.chpcokates!a`d`v show.jnjeA - fitness: 49\n",
      "Já!compvpu.chpcokates!a`d`v show.jnjeA - fitness: 48\n",
      "Já!compvpu.chpcokates a`d`v show.jnjeA - fitness: 47\n",
      "Já!compppu.chpcokates a`d`v show.jnjeA - fitness: 45\n",
      "Já!comppou.chpcokates a`d`v show.jnjeA - fitness: 44\n",
      "Já!comprou.chpcokates a`d`v show.jnjeA - fitness: 42\n",
      "Já!comprou.chpcokates a`d`v show.jnje? - fitness: 40\n",
      "Já!comprou.chpcokates b`d`v show.jnje? - fitness: 39\n",
      "Já!comprou.chpcokates b`d`v show!jnje? - fitness: 26\n",
      "Já!comprou.chpcokates b`d`v show!hnje? - fitness: 24\n",
      "Já!comprou.chpcokates b`d`v show!hoje? - fitness: 23\n",
      "Já!comprou.chpcokates b`d`u show!hoje? - fitness: 22\n",
      "Já!comprou.chpcokates b`c`u show!hoje? - fitness: 21\n",
      "Já!comprou!chpcokates b`c`u show!hoje? - fitness: 8\n",
      "Já!comprou!chpcokates c`c`u show!hoje? - fitness: 7\n",
      "Já comprou!chpcokates c`c`u show!hoje? - fitness: 6\n",
      "Já comprou!chpcokates cac`u show!hoje? - fitness: 5\n",
      "Já comprou chpcokates cac`u show!hoje? - fitness: 4\n",
      "Já comprou chocokates cac`u show!hoje? - fitness: 3\n",
      "Já comprou chocokates cacau show!hoje? - fitness: 2\n",
      "Já comprou chocokates cacau show hoje? - fitness: 1\n",
      "Já comprou chocolates cacau show hoje? - fitness: 0\n",
      "\n",
      "Melhor palpite da senha encontrado:\n",
      "Já comprou chocolates cacau show hoje?\n"
     ]
    }
   ],
   "source": [
    "populacao = cria_populacao_inicial(TAMANHO_POP, NUM_GENES)\n",
    "\n",
    "melhor_fitness_ja_visto = float(\"inf\")  # é assim que escrevemos infinito em python\n",
    "\n",
    "print(\"Progresso da melhor senha já vista:\")\n",
    "\n",
    "while melhor_fitness_ja_visto != 0: \n",
    "    \n",
    "    # Seleção\n",
    "    fitness = funcao_objetivo_pop(populacao)\n",
    "    populacao = funcao_selecao(populacao, fitness)\n",
    "    \n",
    "    # Cruzamento\n",
    "    pais = populacao[0::2]\n",
    "    maes = populacao[1::2]\n",
    "    \n",
    "    contador = 0\n",
    "    \n",
    "    for pai, mae in zip(pais, maes):\n",
    "        if random.random() <= CHANCE_CRUZAMENTO:\n",
    "            filho1, filho2 = funcao_cruzamento(pai, mae)\n",
    "            populacao[contador] = filho1\n",
    "            populacao[contador + 1] = filho2\n",
    "        \n",
    "        contador = contador + 2   \n",
    "        \n",
    "    # Mutação\n",
    "    for n in range(len(populacao)):\n",
    "        if random.random() <= CHANCE_MUTACAO:\n",
    "            individuo = populacao[n]\n",
    "            populacao[n] = funcao_mutacao(individuo)            \n",
    "            \n",
    "    # melhor individuo já visto até agora\n",
    "    fitness = funcao_objetivo_pop(populacao)\n",
    "    menor_fitness = min(fitness)\n",
    "    if menor_fitness < melhor_fitness_ja_visto:        \n",
    "        posicao = fitness.index(menor_fitness)\n",
    "        melhor_individuo_ja_visto = populacao[posicao]\n",
    "        melhor_fitness_ja_visto = menor_fitness\n",
    "        print(\"\".join(melhor_individuo_ja_visto), \"- fitness:\", melhor_fitness_ja_visto)\n",
    "\n",
    "print()\n",
    "print(\"Melhor palpite da senha encontrado:\")\n",
    "print(\"\".join(melhor_individuo_ja_visto))"
   ]
  },
  {
   "cell_type": "markdown",
   "metadata": {},
   "source": [
    "## Conclusão\n",
    "\n"
   ]
  },
  {
   "cell_type": "markdown",
   "metadata": {},
   "source": [
    "<p> Neste experimento, utilizamos nosso algoritmo genético para encontrar a senha correta, utilizando a distância entre palavras \"varrendo\" dígito a dígito.\n",
    "Nós informamos nossa senha e quais são os caracteres possíveis, de modo que a comparação de caracteres começa em uma distância máxima de dígitos, e vai minimizando até que encontre a senha verdadeira. \n",
    "\n",
    "<p> Nosso experimento, é um problema de minimização, ou seja, utilizaremos a soma do absoluto das diferenças como métrica, em que, por meio da função ___ord___ podemos tranformar caracteres em número e verificar a distância entre eles.\n",
    "    \n",
    "<p> Outra ferramenta de grande importância é o fitness, que nos informa o potencial de um indivíduo, sendo que, quanto menor o fitnees (já que estamos em um problema de minização), melhor é o meu indivíduo comparado naquele momento.\n",
    "    \n",
    "<p> Em relação à performance, esta execução é muito rápida e eficiente, uma vez que colocamos muitos dígitos de categorias diferentes para teste."
   ]
  },
  {
   "cell_type": "markdown",
   "metadata": {},
   "source": [
    "## Playground\n",
    "\n"
   ]
  }
 ],
 "metadata": {
  "kernelspec": {
   "display_name": "ilumpy",
   "language": "python",
   "name": "ilumpy"
  },
  "language_info": {
   "codemirror_mode": {
    "name": "ipython",
    "version": 3
   },
   "file_extension": ".py",
   "mimetype": "text/x-python",
   "name": "python",
   "nbconvert_exporter": "python",
   "pygments_lexer": "ipython3",
   "version": "3.9.7"
  },
  "org": null
 },
 "nbformat": 4,
 "nbformat_minor": 4
}
