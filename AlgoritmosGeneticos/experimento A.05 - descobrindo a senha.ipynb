{
 "cells": [
  {
   "cell_type": "markdown",
   "metadata": {},
   "source": [
    "Descobrindo a senha\n",
    "===================\n",
    "\n"
   ]
  },
  {
   "cell_type": "markdown",
   "metadata": {},
   "source": [
    "## Objetivo\n",
    "\n"
   ]
  },
  {
   "cell_type": "markdown",
   "metadata": {},
   "source": [
    "Usar um algoritmo genético para descobrir uma senha.\n",
    "\n"
   ]
  },
  {
   "cell_type": "markdown",
   "metadata": {},
   "source": [
    "## Descrição do problema\n",
    "\n"
   ]
  },
  {
   "cell_type": "markdown",
   "metadata": {},
   "source": [
    "Neste problema, a função objetivo deve saber a senha correta e quantificar de alguma maneira o quão perto ou longe os palpites estão da solução (veja que isso é algo que não temos no mundo real. Nenhum site irá te dizer se você está acertando ou errando seu palpite). O critério de parada deste problema é quando a senha for descoberta.\n",
    "\n"
   ]
  },
  {
   "cell_type": "markdown",
   "metadata": {},
   "source": [
    "## Importações\n",
    "\n"
   ]
  },
  {
   "cell_type": "code",
   "execution_count": 5,
   "metadata": {},
   "outputs": [],
   "source": [
    "from funcoes import populacao_inicial_senha\n",
    "from funcoes import funcao_objetivo_pop_senha\n",
    "from funcoes import selecao_torneio_min\n",
    "from funcoes import cruzamento_ponto_simples as funcao_cruzamento\n",
    "from funcoes import mutacao_senha\n",
    "import random"
   ]
  },
  {
   "cell_type": "markdown",
   "metadata": {},
   "source": [
    "## Códigos e discussão\n",
    "\n"
   ]
  },
  {
   "cell_type": "code",
   "execution_count": 6,
   "metadata": {},
   "outputs": [],
   "source": [
    "### CONSTANTES\n",
    "\n",
    "# relacionadas à busca\n",
    "TAMANHO_POP = 50\n",
    "CHANCE_CRUZAMENTO = 0.5\n",
    "CHANCE_MUTACAO = 0.05\n",
    "NUM_COMBATENTES_NO_TORNEIO = 3\n",
    "\n",
    "# relacionadas ao problema a ser resolvido\n",
    "SENHA = \"Já comprou chocolates cacau show hoje?\"\n",
    "LETRAS_POSSIVEIS = \"abcdefghijklmnopqrstuvwxyzABCDEFGHIJKLMNOPQRSTUVWXYZ0123456789!:@.´ `á?\"\n",
    "NUM_GENES = len(SENHA)"
   ]
  },
  {
   "cell_type": "code",
   "execution_count": 7,
   "metadata": {},
   "outputs": [],
   "source": [
    "# funções locais\n",
    "\n",
    "def cria_populacao_inicial(tamanho, tamanho_senha):\n",
    "    return populacao_inicial_senha(tamanho, tamanho_senha, LETRAS_POSSIVEIS)\n",
    "\n",
    "def funcao_objetivo_pop(populacao):\n",
    "    return funcao_objetivo_pop_senha(populacao, SENHA)\n",
    "\n",
    "def funcao_selecao(populacao, fitness):\n",
    "    return selecao_torneio_min(populacao, fitness, NUM_COMBATENTES_NO_TORNEIO)\n",
    "\n",
    "def funcao_mutacao(individuo):\n",
    "    return mutacao_senha(individuo, LETRAS_POSSIVEIS)"
   ]
  },
  {
   "cell_type": "code",
   "execution_count": 8,
   "metadata": {},
   "outputs": [
    {
     "name": "stdout",
     "output_type": "stream",
     "text": [
      "Progresso da melhor senha já vista:\n",
      "MGHLYsmSx:4wYjudeAnPvAoUFBrroY0TUhkyhU - fitness: 924\n",
      "MGHLYsmSx:4wYjudeAnPvAkPF4h9c:yl37StdE - fitness: 874\n",
      "OxUkIerlFvuwYjudeAnPvAkPF4h9c:yl37StdE - fitness: 856\n",
      "Jt:3rbrlF:4wYjudeAnPvAkPF4h9c:yl37StdE - fitness: 829\n",
      "OxUkYsmSx:4wYjudeAnPvAoUFBh9c:yl37StdE - fitness: 810\n",
      "Jt:3rbrlx:4wYjudeAnPvAkPF4h9c:yl37StdE - fitness: 797\n",
      "Jt:3rbrlx:4wYjudeAnPvAoUFBr9c:yl37StdE - fitness: 772\n",
      "JxUkIerlx:4iYjudeAnPvAkPFbh9c:yl37StdE - fitness: 754\n",
      "Jt:kIerlx:4iYjudeAnPvAoUFBr9c:yl37StdE - fitness: 750\n",
      "Jt:kIerlx:4iYjudeAnPvAkPFbh9c:yl37StdE - fitness: 731\n",
      "Jx:kIerlx:4iYjudeAnPvAkPFbh9c:yl37StdE - fitness: 727\n",
      "Jt:kwerlx:4iYjudeAnPvAkPFbh9c:yl37StdE - fitness: 701\n",
      "Jx:krbrlx:4iYjudeAnPvAkPFbh9c:yl37StdE - fitness: 695\n",
      "Jx:krbrlx:4iYjudeAnPvAkPFYh9cHyl37StdE - fitness: 688\n",
      "Jx:krbrlx:4iYjudeAnPvAkPFbh9cHyl37StdE - fitness: 681\n",
      "Jx:krbrlx:4iYjudeAnPvAk`Fbh9cHyl37StdE - fitness: 665\n",
      "Jx:krbrlx:4eYjudeAnPvAk`Fbh9cHyl37StdE - fitness: 661\n",
      "Jx:krbrlx:4iYjudeAnPvAk`Fbh9cHql37StdE - fitness: 657\n",
      "Jx:krbrlx:4eYjudeAnPvAk`Fbh9cHql37StdE - fitness: 653\n",
      "Jx:krbrlx:4eYjVdeAnPvAk`Fbh9cHql37StdE - fitness: 648\n",
      "Jx:krbrlxe4eYjVdeAnPvAk`Fbh9cHql37StdE - fitness: 605\n",
      "Jx:krbrlxe4eYjVdeAnPvAk`Fbh9cHql3IStdE - fitness: 587\n",
      "Jx:krbrlxe4eYjVdeAnPvAk`Fbh9cHql3IStdC - fitness: 585\n",
      "Jx:krbrlxe4eYjVdeknPvAk`Fbh9cHql3IStdE - fitness: 565\n",
      "Jx:krbrlxe4eYjVdeAnPvAk`Fbh9ccql3IStdE - fitness: 560\n",
      "Jx:krbrlxe4eYjVdeAnPvAk`Fbh9ccql3IxtdE - fitness: 541\n",
      "Jx:krbrlxe4eYjVdeknPvAk`Fbh9ccql3IxtdE - fitness: 519\n",
      "Jx:krbrlxl4eYjVdeknPvAk`Fbh9ccql3IxtdE - fitness: 512\n",
      "Jx:krbrlxe4eYjVdeknPvAk`Fbh9ccql3ixtdE - fitness: 489\n",
      "Jx:krbrlxl4eYjVdeknPvAk`Fbh9ccql3ixtdE - fitness: 482\n",
      "Jx:krbrlxl4eYjVdeknPvAd`Fbh9ccql3ixtdE - fitness: 475\n",
      "Jx:krlrlxl4eYjVdeknPvAk`Fbh9ccql3ixtdE - fitness: 472\n",
      "Jx:krlrlxl4eYjVdeknPvAd`Fbh9ccql3ixtdE - fitness: 465\n",
      "Jx:krlrlxl4eYjVdeknPvAd`Fbh9ccqp3ixtdE - fitness: 461\n",
      "Jx:jrlrlxl4eYjVdeknPvAd`Fbh9ccqp3ixtdE - fitness: 460\n",
      "Jx:krlrlxl4eYjVdeknPv0k`Fbh9ccql3ixgdE - fitness: 448\n",
      "Jx:jrlrlxl4eYjVdeknPv0k`Fbh9ccql3ixgdE - fitness: 447\n",
      "Jx:jrlrlxl4eYjVdhknPv0k`Fbh9ccql3ixgdE - fitness: 444\n",
      "Jx:jrlrlxl4eYjVdhYnPv0k`Fbh9ccql3ixgdE - fitness: 442\n",
      "Jx:jrlruxl4eYjVdhknPv0k`Fbh9ccql3ixgdE - fitness: 441\n",
      "Jx:jrlruxl4eYjVdhYnPv0k`Fbh9ccql3ixgdE - fitness: 439\n",
      "Jx:jrlruxl4eYjVdhYnPv0k`fbh9ccql3ixgdE - fitness: 413\n",
      "Jx:jrlruxl4eYjVdhYnPv.k`fbh9ccql3ixgdE - fitness: 411\n",
      "Jx:jrlruxl4eYjVdhYnPv.k`fbz9ccql3ixgdE - fitness: 403\n",
      "Jx:jrlruxl4eYjVmhYnPv.k`fbz9ccql3ixgdE - fitness: 394\n",
      "Jx:grlruxl4eYjVmhYnPv.k`fbz9ccql3ixgdE - fitness: 391\n",
      "Jx:grlruxl4eYjVmhYnPv.k`fbz9fcql3ixgdE - fitness: 388\n",
      "Jx:grlruxl4eYjVmhYnnv5k`fbz9ccql3ixgdE - fitness: 386\n",
      "Jx:grlruxl4eYjVmhYnnv5k`fbz9fcql3ixgdE - fitness: 383\n",
      "Jx:grlruxl4eYjVmhYnqv.k`fbz9fcql3ixgdE - fitness: 379\n",
      "Jx:grlruxl4eYjVmhYnnv.k`fbz9fcql3ixgdE - fitness: 376\n",
      "Jx:grlruxl4eYjXmhYnnv.k`fbz9fcql3ixgdE - fitness: 374\n",
      "Jx:grlruol4eYjumhYnnv.k`fbz9fcql3ixgdE - fitness: 372\n",
      "Jx:grlruol4eYjVmhYnnv.k`fbz9fcql3ixgdE - fitness: 367\n",
      "Jx:grlruol4eYjVmhYnnv.k`fbz9kcql3ixgdE - fitness: 362\n",
      "Jx:grlruol4eYjlmhYnnv.k`fbz9kcql3ixgdE - fitness: 358\n",
      "Jx:grlruol4eYjlmhYngv.k`fbz9kcql3ixgdE - fitness: 351\n",
      "Jx:grlruol4eYjdmhYnnv.k`fbz9kcql3ixgdE - fitness: 350\n",
      "Jx:grlruol4eYjlmhYngv.k`fbz9kcql3isgdE - fitness: 346\n",
      "Jx:grlruol4eYjdmhYngv.k`fbz9kcql3ixgdE - fitness: 343\n",
      "Jx:grlruol4eYjdmhYngv.k`fbz9kcql3isgdE - fitness: 338\n",
      "Jx:grlruox4eYjdmhYngv.k`fbz9kcql3isgdE - fitness: 332\n",
      "Jx:grlruox4eYjdmhYngv.k`fbz1kcql3isgdE - fitness: 324\n",
      "Jx:grlruox4eYjdmhYngv.k`fbz1kcqy3isgdE - fitness: 315\n",
      "Jx:grlruox4eYjdmhYngv.k`fbz1kcqy3isldE - fitness: 314\n",
      "Jx:grlruox4eYjdmhYngv.k`fbz1keqy3isldE - fitness: 312\n",
      "Jx.grlruox4eYjdmhYngv.k`fbz1kcqy3isldE - fitness: 302\n",
      "Jx.grlruox4eYjdmhYngv.k`fbz1keqy3isldE - fitness: 300\n",
      "Jx.grlruox4eYjdmhYngv.k`fbz1keqx3isldE - fitness: 299\n",
      "Jx.grlruow4eYjdmhYngv.k`fbz1keqx3isldE - fitness: 298\n",
      "Jx.grlruow4eYjdmhhngv.k`fbz1keqx3isldE - fitness: 297\n",
      "Jx.grlruow4eYjdmhhngv.k`fbt1keqx3isldE - fitness: 293\n",
      "Jx.grlruot4eYjdmhhngv.k`fbt1keqx3isldE - fitness: 292\n",
      "Jx.gqlruot4eYjdmhhngv.k`fbt1keqx3isldE - fitness: 291\n",
      "Jx.gqmruot4eYjdmhhngv.k`fbt1keqx3isldE - fitness: 290\n",
      "Jx.eqmruot4eYjdmhhngv.k`fbt1keqx3isldE - fitness: 288\n",
      "Jx.gqmruot4eYpdmhhngv.k`fbt1keqx3isldE - fitness: 286\n",
      "Jx.gqmruot4eYpdmhhngv.k`fbt0keqx3isldE - fitness: 285\n",
      "Jx.gqmruot4eYpdmhbngv.k`fbt1keqx3isldE - fitness: 280\n",
      "Jx.gqmruot4eYpdmhbngv.k`fbt0keqx3isldE - fitness: 279\n",
      "Jx.gqmruot4empdmhbngv.k`fbt0keqx3isldE - fitness: 269\n",
      "Jx.gqmruot4empdmhbngv.k`fbt0reqx3isldE - fitness: 262\n",
      "Jx.gqmruot4empdmhbtgv.k`fbt0reqx3isldE - fitness: 256\n",
      "Jx.gqmruot4empdmhbtgv.k`fbt0reqx3imldE - fitness: 254\n",
      "Jx.gqmruot4empdmhbtgv.k`fbt0reqw3imldE - fitness: 253\n",
      "Jx.gqmruot4empdmibtgv.k`fbt0reqw3imldE - fitness: 252\n",
      "Jx.gpmruot4empdmibtgv.k`fbt0reqw3imldE - fitness: 251\n",
      "Jx.gpmruot4empdmibtgv.k`fbt0reqw3imldC - fitness: 249\n",
      "Jx.gpmruot4empdmibtgv.e`fbt0reqw3imldC - fitness: 243\n",
      "Jx.gpmruot4emocmibtgr.k`fbt0reqw0imldC - fitness: 242\n",
      "Jx.gpmruot4emocmibtgr.k`fbt0reqw0hmldC - fitness: 241\n",
      "Jx.gpmruot4ehocmibtgr.k`fbt0reqw0hmldC - fitness: 236\n",
      "Jx.gpmruot4ehocmibtgr.k`fbt0reqw hmldC - fitness: 220\n",
      "Jx.gpmruot4ehocmibtgr.k`fbt0reqw hmidC - fitness: 219\n",
      "Jx.gpmruot4ehocmibtgr.k`fbt0reqw hpidC - fitness: 218\n",
      "Jx.gpmruot4ehocmibtgr.k`fbt0renw hpidC - fitness: 217\n",
      "Jx.dpmruot4ehocmibtgr.k`fbt0renw hpidC - fitness: 214\n",
      "Jz.gpmruot4ehocmibtgr.d`fbt0renw hpidC - fitness: 208\n",
      "Jz.gpmruot0ehocmibtgr.d`fbt0renw hpidC - fitness: 204\n",
      "Jz.gpmruot0ehocmibtgr.d`dbt0renw hpidC - fitness: 202\n",
      "Jz.gpmruot0ehocmibter.d`dbt0renw hpidC - fitness: 200\n",
      "Jz.gpmruot!ehocmibter.d`dbt0renw hpidC - fitness: 185\n",
      "Jz.gpmruot!ehocmibter.dbdbt0rgnw hpidC - fitness: 183\n",
      "Jz.gpmruot!ehocmibter.dbdbt0rgnw hpieC - fitness: 182\n",
      "Jz.gpmrpot!ehocmibter.dbdbt0rgnw hpieC - fitness: 181\n",
      "Jz.gpmrpot ehocmibter.dbdbt0rgnw hpieC - fitness: 180\n",
      "Jz.gpmopot ehocmibter.dbdbt0rgnw hpieC - fitness: 179\n",
      "Jz.gpmopot ehocmiater.dbdbt0rgnw hpieC - fitness: 178\n",
      "Jz.gpmopot ehocmiater.dbdbt0rgow hpieC - fitness: 177\n",
      "Jz.gpmopot ehocmiater.dbdbt0rgow hpieA - fitness: 175\n",
      "Jz.dpmopot ehocmiater.dbdbt0rgow hpieA - fitness: 172\n",
      "Jz.dpmopot ehocoiater.dbdbt0rgow hpieA - fitness: 170\n",
      "Jz.dpmopot ehocoiater.dbdbt0rgow hpjeA - fitness: 169\n",
      "Jz.dpmopot ehocoiater.dadbt0rgow hpjeA - fitness: 168\n",
      "Jz.dpmopot ehocoiater.dadbt0rgow hpje? - fitness: 166\n",
      "Jz.dpmoqot ehocoiater.dabbt0rgow hpje? - fitness: 165\n",
      "Jz.dpmoqot ehocoiater!dabbt0rgow hpje? - fitness: 152\n",
      "Jz.cpmoqot ehocoiater!dabbt0rgow hpje? - fitness: 151\n",
      "Jz.cpmoqot ehocoiates!dabbt0rgow hpje? - fitness: 150\n",
      "Jz.cpmoqot ehocokater!dabbt0rgow hpje? - fitness: 149\n",
      "Jz.cpmoqot ehocokates!dabbt0rgow hpje? - fitness: 148\n",
      "Jz.cpmoqot chocokates!dabbt0rgow hpje? - fitness: 146\n",
      "Jz.cpmoqot chocokates dabbt0rgow hpje? - fitness: 145\n",
      "Jz.cpmoqot chocokates dabbt rgow hpje? - fitness: 129\n",
      "Jz cpmprot chocokates babat0rgow hpje? - fitness: 128\n",
      "Jz cpmprot chocokates cabat0rgow hpje? - fitness: 127\n",
      "Jz cpmprot chocolates cabat0rgow hpje? - fitness: 126\n",
      "Jz cpmprot chocolates cabat0sgow hpje? - fitness: 125\n",
      "Jz cpmprot chocolates cabat.rgow hpje? - fitness: 124\n",
      "Jz cpmprot chocolates cabau.rgow hpje? - fitness: 123\n",
      "Jz cpmprot chocolates cabau.rhow hpje? - fitness: 122\n",
      "Jz cpmprot chocolates cabau.rhow hoje? - fitness: 121\n",
      "Jz cpmprot chocolates cacau.rhow hoje? - fitness: 120\n",
      "Jz cpmprot chocolates cacau!rhow hoje? - fitness: 107\n",
      "Jz cpmprot chocolates cacau!show hoje? - fitness: 106\n",
      "J´ cpmprot chocolates cacau!show hoje? - fitness: 48\n",
      "J´ comprot chocolates cacau!show hoje? - fitness: 47\n",
      "J´ comprot chocolates cacau show hoje? - fitness: 46\n",
      "Já comprot chocolates cacau show hoje? - fitness: 1\n",
      "Já comprou chocolates cacau show hoje? - fitness: 0\n",
      "\n",
      "Melhor palpite da senha encontrado:\n",
      "Já comprou chocolates cacau show hoje?\n"
     ]
    }
   ],
   "source": [
    "populacao = cria_populacao_inicial(TAMANHO_POP, NUM_GENES)\n",
    "\n",
    "melhor_fitness_ja_visto = float(\"inf\")  # é assim que escrevemos infinito em python\n",
    "\n",
    "print(\"Progresso da melhor senha já vista:\")\n",
    "\n",
    "while melhor_fitness_ja_visto != 0: \n",
    "    \n",
    "    # Seleção\n",
    "    fitness = funcao_objetivo_pop(populacao)\n",
    "    populacao = funcao_selecao(populacao, fitness)\n",
    "    \n",
    "    # Cruzamento\n",
    "    pais = populacao[0::2]\n",
    "    maes = populacao[1::2]\n",
    "    \n",
    "    contador = 0\n",
    "    \n",
    "    for pai, mae in zip(pais, maes):\n",
    "        if random.random() <= CHANCE_CRUZAMENTO:\n",
    "            filho1, filho2 = funcao_cruzamento(pai, mae)\n",
    "            populacao[contador] = filho1\n",
    "            populacao[contador + 1] = filho2\n",
    "        \n",
    "        contador = contador + 2   \n",
    "        \n",
    "    # Mutação\n",
    "    for n in range(len(populacao)):\n",
    "        if random.random() <= CHANCE_MUTACAO:\n",
    "            individuo = populacao[n]\n",
    "            populacao[n] = funcao_mutacao(individuo)            \n",
    "            \n",
    "    # melhor individuo já visto até agora\n",
    "    fitness = funcao_objetivo_pop(populacao)\n",
    "    menor_fitness = min(fitness)\n",
    "    if menor_fitness < melhor_fitness_ja_visto:        \n",
    "        posicao = fitness.index(menor_fitness)\n",
    "        melhor_individuo_ja_visto = populacao[posicao]\n",
    "        melhor_fitness_ja_visto = menor_fitness\n",
    "        print(\"\".join(melhor_individuo_ja_visto), \"- fitness:\", melhor_fitness_ja_visto)\n",
    "\n",
    "print()\n",
    "print(\"Melhor palpite da senha encontrado:\")\n",
    "print(\"\".join(melhor_individuo_ja_visto))"
   ]
  },
  {
   "cell_type": "markdown",
   "metadata": {},
   "source": [
    "## Conclusão\n",
    "\n"
   ]
  },
  {
   "cell_type": "markdown",
   "metadata": {},
   "source": [
    "Neste experimento, utilizamos nosso algoritmo genético para encontrar a senha correta, utilizando a distância entre palavras \"varrendo\" dígito a dígito.\n",
    "Nós informamos nossa senha e quais são os caracteres possíveis, de modo que a comparação de caracteres começa em uma distância máxima de dígitos, e vai minimizando até que encontre a senha verdadeira. \n",
    "\n",
    "Nosso experimento, é um problema de minimização, ou seja, utilizaremos a soma do absoluto das diferenças como métrica, em que, por meio da função ___ord___ podemos transformar caracteres em número e verificar a distância entre eles.\n",
    "    \n",
    "Outra ferramenta de grande importância é o fitness, que nos informa o potencial de um indivíduo, sendo que, quanto menor o fitnees (já que estamos em um problema de minização), melhor é o meu indivíduo comparado naquele momento.\n",
    "    \n",
    "Em relação à performance, esta execução é muito rápida e eficiente, uma vez que colocamos muitos dígitos de categorias diferentes para teste.\n",
    "Além disso, temos um problema determinístico, pois sempre chegamos na senha correta, pois no \"while\" o critério de parada é bem estabelecido, o algoritmo precisa atingir o objetivo."
   ]
  },
  {
   "cell_type": "markdown",
   "metadata": {},
   "source": [
    "## Playground\n",
    "\n"
   ]
  }
 ],
 "metadata": {
  "kernelspec": {
   "display_name": "ilumpy",
   "language": "python",
   "name": "ilumpy"
  },
  "language_info": {
   "codemirror_mode": {
    "name": "ipython",
    "version": 3
   },
   "file_extension": ".py",
   "mimetype": "text/x-python",
   "name": "python",
   "nbconvert_exporter": "python",
   "pygments_lexer": "ipython3",
   "version": "3.9.7"
  },
  "org": null
 },
 "nbformat": 4,
 "nbformat_minor": 4
}
