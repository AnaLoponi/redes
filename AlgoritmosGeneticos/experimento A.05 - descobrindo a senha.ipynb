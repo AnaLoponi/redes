{
 "cells": [
  {
   "cell_type": "markdown",
   "metadata": {},
   "source": [
    "Descobrindo a senha\n",
    "===================\n",
    "\n"
   ]
  },
  {
   "cell_type": "markdown",
   "metadata": {},
   "source": [
    "## Objetivo\n",
    "\n"
   ]
  },
  {
   "cell_type": "markdown",
   "metadata": {},
   "source": [
    "Usar um algoritmo genético para descobrir uma senha.\n",
    "\n"
   ]
  },
  {
   "cell_type": "markdown",
   "metadata": {},
   "source": [
    "## Descrição do problema\n",
    "\n"
   ]
  },
  {
   "cell_type": "markdown",
   "metadata": {},
   "source": [
    "Neste problema, a função objetivo deve saber a senha correta e quantificar de alguma maneira o quão perto ou longe os palpites estão da solução (veja que isso é algo que não temos no mundo real. Nenhum site irá te dizer se você está acertando ou errando seu palpite). O critério de parada deste problema é quando a senha for descoberta.\n",
    "\n"
   ]
  },
  {
   "cell_type": "markdown",
   "metadata": {},
   "source": [
    "## Importações\n",
    "\n"
   ]
  },
  {
   "cell_type": "code",
   "execution_count": 5,
   "metadata": {},
   "outputs": [],
   "source": [
    "from funcoes import populacao_inicial_senha\n",
    "from funcoes import funcao_objetivo_pop_senha\n",
    "from funcoes import selecao_torneio_min\n",
    "from funcoes import cruzamento_ponto_simples as funcao_cruzamento\n",
    "from funcoes import mutacao_senha\n",
    "import random"
   ]
  },
  {
   "cell_type": "markdown",
   "metadata": {},
   "source": [
    "## Códigos e discussão\n",
    "\n"
   ]
  },
  {
   "cell_type": "markdown",
   "metadata": {},
   "source": [
    "Neste experimento, exite um detalhe que pode torná-lo um pouco mais difícil: O fato de, na estrutura dos algoritmos genéticos, os genes serem letras ou caracteres, ao invés de números (como estávamos acostumados).\n",
    "Sendo assim, nosso indivíduo é a própria senha já informada, composta por vários genes diferentes.\n",
    "<p>\n",
    "Para descobrir a senha correta, é necessário utilizar a distância dos caracteres possíveis em relação aos caracteres já informados. Quanto menor a distância, mais correta está a senha. A intenção é que essa distância seja 0, ou seja, temos um problema de MINIMIZAÇÃO!"
   ]
  },
  {
   "cell_type": "code",
   "execution_count": 6,
   "metadata": {},
   "outputs": [],
   "source": [
    "### CONSTANTES\n",
    "\n",
    "# relacionadas à busca\n",
    "TAMANHO_POP = 50\n",
    "CHANCE_CRUZAMENTO = 0.5\n",
    "CHANCE_MUTACAO = 0.05\n",
    "NUM_COMBATENTES_NO_TORNEIO = 3\n",
    "\n",
    "# relacionadas ao problema a ser resolvido\n",
    "SENHA = \"Já comprou chocolates cacau show hoje?\"\n",
    "LETRAS_POSSIVEIS = \"abcdefghijklmnopqrstuvwxyzABCDEFGHIJKLMNOPQRSTUVWXYZ0123456789!:@.´ `á?\"\n",
    "NUM_GENES = len(SENHA)"
   ]
  },
  {
   "cell_type": "code",
   "execution_count": 7,
   "metadata": {},
   "outputs": [],
   "source": [
    "# funções locais\n",
    "\n",
    "def cria_populacao_inicial(tamanho, tamanho_senha):\n",
    "    return populacao_inicial_senha(tamanho, tamanho_senha, LETRAS_POSSIVEIS)\n",
    "\n",
    "def funcao_objetivo_pop(populacao):\n",
    "    return funcao_objetivo_pop_senha(populacao, SENHA)\n",
    "\n",
    "def funcao_selecao(populacao, fitness):\n",
    "    return selecao_torneio_min(populacao, fitness, NUM_COMBATENTES_NO_TORNEIO)\n",
    "\n",
    "def funcao_mutacao(individuo):\n",
    "    return mutacao_senha(individuo, LETRAS_POSSIVEIS)"
   ]
  },
  {
   "cell_type": "code",
   "execution_count": 8,
   "metadata": {},
   "outputs": [
    {
     "name": "stdout",
     "output_type": "stream",
     "text": [
      "Progresso da melhor senha já vista:\n",
      "DlNaT5Vngxdmgtg9So?hvEHJgEfyIeXyZba6jP - fitness: 980\n",
      "KpYNtFSmmoVghlR`4u0yr4d?gEfyIeXyZba6jP - fitness: 949\n",
      "Yokyf8wunrTN:sqaWu0yr4d?gVg wVcE8Hjb1l - fitness: 917\n",
      "DlNaT5VnQxdmgtg9So?hvEd?gVg wVcE8Hjb1l - fitness: 908\n",
      "DlNaL vJmoVghlR`ZM0yr4d?gVg wVcE8Hjb1l - fitness: 891\n",
      "DlNaL vJmoVghlR`ZM0yr4d?gVg wVzh9?Yu:I - fitness: 841\n",
      "DlNaT5VnQxdmgtg9So?yr4d?eVg weXyZbajjP - fitness: 786\n",
      "DlNaT5VnQxdmgtg9So?hvEdUgVg wVcuZbajjP - fitness: 772\n",
      "DlNaf8wunrTmgtg`ZM0yr4d?gVg wVzuZbajjP - fitness: 680\n",
      "DlNaf8wunrTmgtg`lM0yr4d?gVg wVzuZbajjP - fitness: 662\n",
      "DlNaf8wunrTmgtg`So?hvEdUgVg wVcuZbajjP - fitness: 647\n",
      "DlNaf8wunrTmgtg`lM0yr4dUgVg wVcuZbajjP - fitness: 641\n",
      "DlNaf8wunrTmgtg`lM?hvEdUgVg wVcuZbajjP - fitness: 628\n",
      "DlNaf8wunrTmgtg`lM?hsEdUgVg wVcuZbajjP - fitness: 625\n",
      "DlNaf8wunrLmgtg`lM?hsEdUgVg wVcuZbajjP - fitness: 617\n",
      "DlNaf8wunrLmgtg`lM?hsEdUgVg wVcuZbajj3 - fitness: 612\n",
      "DlNaf8wunrLmgtg`lM?hvEdUgVg wVjuZbajj3 - fitness: 608\n",
      "DlNaf8wunrLmgtg`lMphsEdUgVg wVcuZbajj3 - fitness: 563\n",
      "DlNaf8wunrLmgtg`lMphvEdUgVg wVjuZbajj3 - fitness: 559\n",
      "DlNaf8wunrLmgtg`lMphsEdUgVg wVjuZbajj3 - fitness: 556\n",
      "DlNaf8wunr mgtg`lMphvEdUgVg wVjuZbajj3 - fitness: 515\n",
      "DlNaf8wunr mgtg`lMphv?dUgVg wVjuZbajj3 - fitness: 509\n",
      "DlNaf8wunr mgtg`lMphv?dUgVg wjjuZbajj3 - fitness: 493\n",
      "Dl4Pf8wunr mgtg`lMphv?dUgVg wjjuZbajj3 - fitness: 484\n",
      "Dl4Pf8wunr mgtg`lMphv?dUgVg wjjuJbajj3 - fitness: 468\n",
      "Dl4Pf8wunr mgtgdlMphv?dUgVg wjjuJbajj3 - fitness: 464\n",
      "Dl4Yf8wunr mgtgdlMphv?dUgVg wjjuJbajj3 - fitness: 455\n",
      "Dl4Yf8wunr mgtgdlMphv?dUgVg qjjuJbajj3 - fitness: 453\n",
      "Dá4Pf8wunr mgtf`lMphv?dUgVg wjjuJbajj3 - fitness: 350\n",
      "Dá4Pf8wunr mgtgdlMphv?dUgVg wjjuJbajj3 - fitness: 347\n",
      "Dá4Yf8wunr mgtgdlMphv?dUgVg qjjuJbajj3 - fitness: 336\n",
      "Dá4PfSwunr mgtgdlMphv?dUgVg qjjuJbajj3 - fitness: 318\n",
      "Dá4Yf8wunr mgtgdlMphv?dUgVg qjju3bajj3 - fitness: 313\n",
      "Dá4PfSwunr mgtgdlMphv?dUgVg qjju3bajj3 - fitness: 295\n",
      "Dá4gfSwunr mgtgdlXphv?dUgVg qjjuJbajj3 - fitness: 292\n",
      "Dá4gfSwunr mgtgglXphv?dUgVg qjjuJbajj3 - fitness: 289\n",
      "Dá4gfWwunr mgtgdlXphv?dUgVg qjjuJbajj3 - fitness: 288\n",
      "Dá4gfSwunr mgtgdlXphv?dXgVi qjjuJbajj3 - fitness: 287\n",
      "Dá4gfWwunr mgtgglXphv?dUgVg qjjuJbajj3 - fitness: 285\n",
      "Dá4gfWwunr mgtgglXphv?dUgVg sjjuJbajj3 - fitness: 283\n",
      "Dá4gfWwunr mgtgglXphv?dbgVg sjjuJbajj3 - fitness: 272\n",
      "Dá4gfjwunr mgt`glXphv?dbgVg sjjuJbajj3 - fitness: 252\n",
      "Dá4gfjwunr mgt`glXphv?dbgVg sjjuJbvjj3 - fitness: 245\n",
      "Dá4gfjwunr mgt`glXphv?dbgVg sjouJbvjj3 - fitness: 240\n",
      "Dá!gfjwunr mgt`glXphv?dbgVg sjouJbvjj3 - fitness: 221\n",
      "Dá!gfjwunr mgt`glXphv?dbdVg sjouJbvjj3 - fitness: 218\n",
      "Dá!gfjwunr mgt`glXphv?dbdVg sjouJbvja3 - fitness: 217\n",
      "Dá!gfjwunr mgt`glXphv?dbdVg sjouJbmja3 - fitness: 212\n",
      "Dá!gfjwunr mgt`glgphv?dbdVg sjouJbmja3 - fitness: 209\n",
      "Dá!gfjwunr mgt`glgphv?dbdVg sjouJbmja7 - fitness: 205\n",
      "Dá!gfjwunr mgt`glgphv?dbdVg sjouJbmjaC - fitness: 201\n",
      "Dá!grjwunr mgt`glgphv?dbdVg sjouJbmjaC - fitness: 195\n",
      "Dá!grjwunr mgt`nlgphv?dbdVg sjouJbmjaC - fitness: 188\n",
      "Dá!grjwunr mgt`nlgphv?dbdXg sjouJbmjaC - fitness: 186\n",
      "Dá!grjwunr mgt`nlgphv?dbdVl sjouJbmjaC - fitness: 183\n",
      "Dá!grjwunr mgt`nlgphv?dbdVl sjouJbnjaC - fitness: 182\n",
      "Dá!grjwunr mgt`nlgphv?dbdVz sjouJbmjaC - fitness: 179\n",
      "Dá!grjwunr mgt`nlgphv?dbdVz sjouJbnjaC - fitness: 178\n",
      "Dá!grjtunr mgt`nlgphv?dbdVz sjouJbnjaC - fitness: 175\n",
      "Dá!grjtunr mgt`nlgphv5dbdVz sjouJbnjaC - fitness: 165\n",
      "Dá!grjtunr mgl`nlgphv5dbdVz sjouJbnjaC - fitness: 163\n",
      "Dá!crjtunr mgl`nlgphv5dbdVz sjouJbnjaC - fitness: 159\n",
      "Dá!crjtunr mgl`nlgphv5dbdVz sjouJbnjeC - fitness: 155\n",
      "Dá!crjtunr mgl`nlgphv5dbdVz sjouJmnjeC - fitness: 154\n",
      "Dá!crjtunr lgl`nlgphv5dbdVz sjouJmnjeC - fitness: 153\n",
      "Dá!crjtunr lgl`nlgphq5dbdVz sjouJmnjeC - fitness: 152\n",
      "Dá!crjtunr lgl`nlgphq5dbdVr sjouJmnjeC - fitness: 150\n",
      "Dá!crjtunr jgl`nlgphq5dbdVr sjouJmnjeC - fitness: 148\n",
      "Dá!crjtunr jgl`nlgphq5dbdVr sgouJmnjeC - fitness: 147\n",
      "Dá!crjtunr jgl`nlgpdq5dbdVr sgouJmnjeC - fitness: 145\n",
      "Dá!crjqunr jgl`nlgpdq5dbdVr sgouJmnjeC - fitness: 142\n",
      "Dá!crjqunr bgl`nlgpdq5dbdVr sgouJmnjeC - fitness: 136\n",
      "Dá!crjqunr bgl`nlgpdq5dbdWr sgouJmnjeC - fitness: 135\n",
      "Dá!crjqunr bgl`nlgpdq5dbd`r sgouJmnjeC - fitness: 126\n",
      "Dá!crjqunr bgl`nlgpdq5dbd`r sgouJfnjeC - fitness: 123\n",
      "Dá!cpjqunr bgl`nlgpdq5dbd`r sgouJfnjeC - fitness: 121\n",
      "Dá!cpjqunv bgl`nlgpdq5dbd`r sgouJfnjeC - fitness: 119\n",
      "Dá!cpjqunv bgl`nlgpdq5dbd`w sgouJfnjeC - fitness: 118\n",
      "Dá!cpjqunv bgl`nlgudq5dbd`r sgouJfnjeC - fitness: 116\n",
      "Dá!cpjqunv bgl`nlgudq5dbd`w sgouJfnjeC - fitness: 115\n",
      "Gá!cpjqunv bgl`nlgudq5dbd`w sgouJfnjeC - fitness: 112\n",
      "Gá!cpjqunv bgl`nlgudq5dbd`w sgou9fnjeC - fitness: 95\n",
      "Gá!cpjqunv bhl`nlgudq5dbd`w sgou9fnjeC - fitness: 94\n",
      "Há!cpjqunv bhl`nlgudq5dbd`w sgou9fnjeC - fitness: 93\n",
      "Há!cpjqtnv bhl`nlgudq5dbd`w sgou9fnjeC - fitness: 92\n",
      "Há!cpnqtnv bhl`nlgudq5dbd`w sgou9fnjeC - fitness: 90\n",
      "Há!cpnqtnv bhl`nlgudq5dbd`w sgou.fnjeC - fitness: 79\n",
      "Há!cpnqtnv bhl`nlgudq5dbd`w sgou.fnje? - fitness: 75\n",
      "Há!cpnqqnv bhl`nlgudq5dbd`w sgou.fnje? - fitness: 74\n",
      "Há!cpnqqnv bhl`nlgudq5dbd`w sgou.hnje? - fitness: 72\n",
      "Há!cpnqqnv bhlenlgudq5dbd`w sgou.hnje? - fitness: 71\n",
      "Já!cpnqqnv bhlenlgudq5dbd`w sgou.hnje? - fitness: 69\n",
      "Já!cpnqqnv bhlenlguds5dbd`w sgou.hnje? - fitness: 67\n",
      "Já!cpnqqnv bhldnlguds5dbd`w sgou.hnje? - fitness: 66\n",
      "Já!cpnqqnv bhldnlguds2dbd`w sgou.hnje? - fitness: 63\n",
      "Já!cpnqqnv bhldnlcuds2dbd`w sgou.hnje? - fitness: 59\n",
      "Já!cpnqqnv bhlcnlcuds2dbd`w sgou.hnje? - fitness: 58\n",
      "Já!cpnqqnv bhocnlcuds2dbd`w sgou.hnje? - fitness: 55\n",
      "Já!cpnqqnv bhlcnlcuds2dbd`w sgou hnje? - fitness: 44\n",
      "Já!cpnqqnv bhocnlcuds2dbd`w sgou hnje? - fitness: 41\n",
      "Já!cpnqqnv bhocnlcuds2dbd`w sgou hoje? - fitness: 40\n",
      "Já!conqqnv bhocnlcuds2dbd`w sgou hoje? - fitness: 39\n",
      "Já!conpqnv bhocnlcuds2dbd`w sgou hoje? - fitness: 38\n",
      "Já!conpqnv bhocnlcuds.dbd`w sgou hoje? - fitness: 34\n",
      "Já!conpqnv chocnlcuds.dbd`w sgou hoje? - fitness: 33\n",
      "Já!conpqnv chocnlcuds.dbdaw sgou hoje? - fitness: 32\n",
      "Já!conpqnv chocnlcuds.cbdaw sgou hoje? - fitness: 31\n",
      "Já!conpqnv chocnlcuds.cbdaw sgow hoje? - fitness: 29\n",
      "Já!compqnv chocnlcuds.cbdaw sgow hoje? - fitness: 28\n",
      "Já!compqnv chocnl`uds.cbdaw sgow hoje? - fitness: 27\n",
      "Já!compqov chocnl`uds.cbdaw sgow hoje? - fitness: 26\n",
      "Já compqov chocnl`uds.cbdaw sgow hoje? - fitness: 25\n",
      "Já compqov chocnl`uds.cbdaw show hoje? - fitness: 24\n",
      "Já compqov chocnl`tds.cbdaw show hoje? - fitness: 23\n",
      "Já compqov chocnl`tds!cbdaw show hoje? - fitness: 10\n",
      "Já compqov chocol`tds!cbdaw show hoje? - fitness: 9\n",
      "Já compqov chocol`tds!cbcaw show hoje? - fitness: 8\n",
      "Já compqov chocol`tds cbcaw show hoje? - fitness: 7\n",
      "Já compqov chocol`tds cacaw show hoje? - fitness: 6\n",
      "Já compqou chocol`tds cacaw show hoje? - fitness: 5\n",
      "Já compqou chocol`tds cacav show hoje? - fitness: 4\n",
      "Já comprou chocol`tds cacav show hoje? - fitness: 3\n",
      "Já comprou chocolatds cacav show hoje? - fitness: 2\n",
      "Já comprou chocolates cacav show hoje? - fitness: 1\n",
      "Já comprou chocolates cacau show hoje? - fitness: 0\n",
      "\n",
      "Melhor palpite da senha encontrado:\n",
      "Já comprou chocolates cacau show hoje?\n"
     ]
    }
   ],
   "source": [
    "populacao = cria_populacao_inicial(TAMANHO_POP, NUM_GENES)\n",
    "\n",
    "melhor_fitness_ja_visto = float(\"inf\")  # é assim que escrevemos infinito em python\n",
    "\n",
    "print(\"Progresso da melhor senha já vista:\")\n",
    "\n",
    "while melhor_fitness_ja_visto != 0: \n",
    "    \n",
    "    # Seleção\n",
    "    fitness = funcao_objetivo_pop(populacao)\n",
    "    populacao = funcao_selecao(populacao, fitness)\n",
    "    \n",
    "    # Cruzamento\n",
    "    pais = populacao[0::2]\n",
    "    maes = populacao[1::2]\n",
    "    \n",
    "    contador = 0\n",
    "    \n",
    "    for pai, mae in zip(pais, maes):\n",
    "        if random.random() <= CHANCE_CRUZAMENTO:\n",
    "            filho1, filho2 = funcao_cruzamento(pai, mae)\n",
    "            populacao[contador] = filho1\n",
    "            populacao[contador + 1] = filho2\n",
    "        \n",
    "        contador = contador + 2   \n",
    "        \n",
    "    # Mutação\n",
    "    for n in range(len(populacao)):\n",
    "        if random.random() <= CHANCE_MUTACAO:\n",
    "            individuo = populacao[n]\n",
    "            populacao[n] = funcao_mutacao(individuo)            \n",
    "            \n",
    "    # melhor individuo já visto até agora\n",
    "    fitness = funcao_objetivo_pop(populacao)\n",
    "    menor_fitness = min(fitness)\n",
    "    if menor_fitness < melhor_fitness_ja_visto:        \n",
    "        posicao = fitness.index(menor_fitness)\n",
    "        melhor_individuo_ja_visto = populacao[posicao]\n",
    "        melhor_fitness_ja_visto = menor_fitness\n",
    "        print(\"\".join(melhor_individuo_ja_visto), \"- fitness:\", melhor_fitness_ja_visto)\n",
    "\n",
    "print()\n",
    "print(\"Melhor palpite da senha encontrado:\")\n",
    "print(\"\".join(melhor_individuo_ja_visto))"
   ]
  },
  {
   "cell_type": "markdown",
   "metadata": {},
   "source": [
    "Comparado aos outros experimentos, esté código foi alterado em alguns aspectos para atender aos objetivos. Além de trabalharmos com caracteres e calcular a distância entre eles, algumas funções perderam utilidade neste problema, como a roleta máxima na função seleção (pois, estávamos tratando de um problema de minimização). Sendo assim, o melhor modelo de seleção foi o torneio, em que 3 indivíduos eram comparados e o invidivíduo com menor fitness era selecionado. Contudo, os outros indivíduos não eram descartados, apenas retornavam a \"lista\" de possíveis combatentes no torneio, ou seja, seguiam através das próximas gerações.\n",
    "E ainda, existe o risco de selecionar o mesmo indivíduo mais de uma vez, visto que a população não deixa de ser a mesma.\n",
    "\n",
    "Após rodar esse processo algumas vezes, obtém a senha correta, sendo a distância entre os caracteres = 0."
   ]
  },
  {
   "cell_type": "markdown",
   "metadata": {},
   "source": [
    "## Conclusão\n",
    "\n"
   ]
  },
  {
   "cell_type": "markdown",
   "metadata": {},
   "source": [
    "Neste experimento, utilizamos nosso algoritmo genético para encontrar a senha correta, utilizando a distância entre palavras \"varrendo\" dígito a dígito.\n",
    "Nós informamos nossa senha e quais são os caracteres possíveis, de modo que a comparação de caracteres começa em uma distância máxima de dígitos, e vai minimizando até que encontre a senha verdadeira. \n",
    "\n",
    "Nosso experimento, é um problema de minimização, ou seja, utilizaremos a soma do absoluto das diferenças como métrica, em que, por meio da função ___ord___, utilizada dentro da _função_objetivo_senha_, podemos transformar caracteres em números e verificar a distância entre eles.\n",
    "    \n",
    "Concluímos que o uso de algoritmos genéticos é um dos melhores métodos para encontrar senhas de N caracteres, em comparação com abordagens como busca em grade. A busca em grade exigiria um número muito grande de iterações, o que seria computacionalmente pesado.\n",
    "\n",
    "Uma característica interessante desse código é a sua flexibilidade, permitindo modificações nas funções. Uma proposta de modificação discutida em sala de aula foi a mudança na função de mutação para permitir a mutação em nível de letra, em vez de palavra inteira, o que provavelmente aumentaria a eficiência do algoritmo.\n",
    "\n",
    "Ao ajustar as constantes de busca, observamos que aumentar o número de gerações e o tamanho da população resulta em um aumento significativo no tempo de execução do código. No entanto, também aumenta a probabilidade de encontrar a senha correta. Portanto, é necessário encontrar um equilíbrio entre eficiência e probabilidade de sucesso.\n",
    "\n",
    "Destacamos a importância da constante \"NUM_COMBATENTES_NO_TORNEIO\" no desempenho do código. Um valor maior para essa constante resulta em uma população mais homogênea. Observamos que valores maiores tendem a produzir resultados piores, provavelmente devido à perda de diversidade genética na população."
   ]
  },
  {
   "cell_type": "markdown",
   "metadata": {},
   "source": [
    "## Playground\n",
    "\n"
   ]
  }
 ],
 "metadata": {
  "kernelspec": {
   "display_name": "ilumpy",
   "language": "python",
   "name": "ilumpy"
  },
  "language_info": {
   "codemirror_mode": {
    "name": "ipython",
    "version": 3
   },
   "file_extension": ".py",
   "mimetype": "text/x-python",
   "name": "python",
   "nbconvert_exporter": "python",
   "pygments_lexer": "ipython3",
   "version": "3.9.7"
  },
  "org": null
 },
 "nbformat": 4,
 "nbformat_minor": 4
}
