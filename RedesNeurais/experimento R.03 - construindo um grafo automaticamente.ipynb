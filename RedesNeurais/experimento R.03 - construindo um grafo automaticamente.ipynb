{
 "cells": [
  {
   "cell_type": "markdown",
   "metadata": {},
   "source": [
    "Construindo um grafo automaticamente\n",
    "====================================\n",
    "\n"
   ]
  },
  {
   "cell_type": "markdown",
   "metadata": {},
   "source": [
    "## Introdução\n",
    "\n"
   ]
  },
  {
   "cell_type": "markdown",
   "metadata": {},
   "source": [
    "Neste notebook nós vamos dar o primeiro passo para construir nossa rede neural artificial. Neste primeiro passo, nós vamos criar uma classe que gera automaticamente o nosso `grafo computacional`. O grafo computacional é o grafo que representa todas as operações matemáticas que ocorreram ao se computar um certo valor $y$. O grafo computacional é um passo necessário pois será baseado nele que iremos computar os gradientes locais necessários para realizar o `backpropagation`.\n",
    "\n"
   ]
  },
  {
   "cell_type": "code",
   "execution_count": 1,
   "metadata": {},
   "outputs": [],
   "source": [
    "try:\n",
    "    import graphviz\n",
    "except ModuleNotFoundError:\n",
    "    import sys\n",
    "    !{sys.executable} -m pip install graphviz"
   ]
  },
  {
   "cell_type": "markdown",
   "metadata": {},
   "source": [
    "## Importações\n",
    "\n"
   ]
  },
  {
   "cell_type": "code",
   "execution_count": 2,
   "metadata": {},
   "outputs": [],
   "source": [
    "from funcoes import plota_grafo"
   ]
  },
  {
   "cell_type": "markdown",
   "metadata": {},
   "source": [
    "## Código e discussão\n",
    "\n"
   ]
  },
  {
   "cell_type": "markdown",
   "metadata": {},
   "source": [
    "### Primeiros passos\n",
    "\n"
   ]
  },
  {
   "cell_type": "markdown",
   "metadata": {},
   "source": [
    "A base de tudo será uma classe chamada `Valor`. Vamos começar pelo básico!\n",
    "\n"
   ]
  },
  {
   "cell_type": "code",
   "execution_count": 3,
   "metadata": {},
   "outputs": [],
   "source": [
    "class Valor:\n",
    "    def __init__(self, data):\n",
    "        self.data = data\n",
    "\n",
    "    def __repr__(self):\n",
    "        return f\"Valor(data={self.data})\""
   ]
  },
  {
   "cell_type": "markdown",
   "metadata": {},
   "source": [
    "Vamos testar nossa classe!\n",
    "\n"
   ]
  },
  {
   "cell_type": "code",
   "execution_count": 4,
   "metadata": {},
   "outputs": [
    {
     "name": "stdout",
     "output_type": "stream",
     "text": [
      "Valor(data=60)\n",
      "60\n"
     ]
    }
   ],
   "source": [
    "x1 = Valor(60)\n",
    "print(x1)\n",
    "print(x1.data)"
   ]
  },
  {
   "cell_type": "markdown",
   "metadata": {},
   "source": [
    "### Os dunders `__add__` e `__mul__`\n",
    "\n"
   ]
  },
  {
   "cell_type": "markdown",
   "metadata": {},
   "source": [
    "Observe que não conseguimos adicionar nem multiplicar objetos criados com a classe `Valor`.\n",
    "\n"
   ]
  },
  {
   "cell_type": "code",
   "execution_count": 5,
   "metadata": {},
   "outputs": [],
   "source": [
    "a = Valor(10)\n",
    "b = Valor(5)"
   ]
  },
  {
   "cell_type": "code",
   "execution_count": 6,
   "metadata": {},
   "outputs": [],
   "source": [
    "#print(a + b)"
   ]
  },
  {
   "cell_type": "code",
   "execution_count": 7,
   "metadata": {},
   "outputs": [],
   "source": [
    "#print(a * b)"
   ]
  },
  {
   "cell_type": "markdown",
   "metadata": {},
   "source": [
    "Ué&#x2026; porque não conseguimos? Não conseguimos pois o Python (ainda) não é vidente. Ele lá vai saber como adicionar ou multiplicar algo que você criou? Pra você parece óbvio que valores podem ser adicionados ou multiplicados, mas para o Python ele nem sabe o que significa a palavra `Valor`&#x2026;\n",
    "\n",
    "Como sempre, temos que contar para o programa o que queremos que aconteça quando usarmos os operadores `+` e `*`. Quem faz isso são os dunders `__add__` e `__mul__`.\n",
    "\n"
   ]
  },
  {
   "cell_type": "code",
   "execution_count": 8,
   "metadata": {},
   "outputs": [],
   "source": [
    "class Valor:\n",
    "    def __init__(self, data):\n",
    "        self.data = data\n",
    "\n",
    "    def __repr__(self):\n",
    "        return f\"Valor(data={self.data})\"\n",
    "\n",
    "    def __add__(self, outro_valor):\n",
    "        saida = Valor(self.data + outro_valor.data)\n",
    "        return saida\n",
    "\n",
    "    def __mul__(self, outro_valor):\n",
    "        saida = Valor(self.data * outro_valor.data)\n",
    "        return saida"
   ]
  },
  {
   "cell_type": "markdown",
   "metadata": {},
   "source": [
    "Vamos testar!\n",
    "\n"
   ]
  },
  {
   "cell_type": "code",
   "execution_count": 9,
   "metadata": {},
   "outputs": [
    {
     "name": "stdout",
     "output_type": "stream",
     "text": [
      "Valor(data=15)\n",
      "Valor(data=50)\n"
     ]
    }
   ],
   "source": [
    "a = Valor(10)\n",
    "b = Valor(5)\n",
    "\n",
    "print(a + b)\n",
    "print(a * b)"
   ]
  },
  {
   "cell_type": "markdown",
   "metadata": {},
   "source": [
    "### Registrando os progenitores\n",
    "\n"
   ]
  },
  {
   "cell_type": "markdown",
   "metadata": {},
   "source": [
    "Nosso objetivo é construir um grafo computacional. Em um grafo computacional, um certo vértice pode ter um ou mais vértices progenitores (são seus pais/mães). Nós não podemos perder essa informação quando formos construir um grafo, então precisamos incluir essa informação na nossa classe.\n",
    "\n"
   ]
  },
  {
   "cell_type": "code",
   "execution_count": 10,
   "metadata": {},
   "outputs": [],
   "source": [
    "class Valor:\n",
    "    def __init__(self, data, progenitor=()):\n",
    "        self.data = data\n",
    "        self.progenitor = progenitor\n",
    "\n",
    "    def __repr__(self):\n",
    "        return f\"Valor(data={self.data})\"\n",
    "\n",
    "    def __add__(self, outro_valor):\n",
    "        data = self.data + outro_valor.data\n",
    "        progenitor = (self, outro_valor)\n",
    "        saida = Valor(data, progenitor)\n",
    "        return saida\n",
    "\n",
    "    def __mul__(self, outro_valor):\n",
    "        data = self.data * outro_valor.data\n",
    "        progenitor = (self, outro_valor)\n",
    "        saida = Valor(data, progenitor)\n",
    "        return saida"
   ]
  },
  {
   "cell_type": "markdown",
   "metadata": {},
   "source": [
    "Vamos testar!\n",
    "\n"
   ]
  },
  {
   "cell_type": "code",
   "execution_count": 11,
   "metadata": {},
   "outputs": [
    {
     "name": "stdout",
     "output_type": "stream",
     "text": [
      "10\n",
      "()\n",
      "Valor(data=15)\n",
      "Valor(data=10)\n",
      "(Valor(data=15), Valor(data=10))\n"
     ]
    }
   ],
   "source": [
    "a = Valor(10)\n",
    "b = Valor(5)\n",
    "\n",
    "print(a.data)\n",
    "print(a.progenitor)\n",
    "\n",
    "c = a + b\n",
    "d = c * a\n",
    "\n",
    "print(c)\n",
    "print(a)\n",
    "print(d.progenitor)"
   ]
  },
  {
   "cell_type": "markdown",
   "metadata": {},
   "source": [
    "### Registrando o operador mãe\n",
    "\n"
   ]
  },
  {
   "cell_type": "markdown",
   "metadata": {},
   "source": [
    "Em um grafo computacional, um vértice pode ter um operador mãe. O operador mãe é o operador que foi usado para gerar o vértice.\n",
    "\n"
   ]
  },
  {
   "cell_type": "code",
   "execution_count": 12,
   "metadata": {},
   "outputs": [],
   "source": [
    "# Armazenando valor do operador mãe\n",
    "class Valor:\n",
    "    def __init__(self, data, progenitor=(), operador_mae=\"\"):\n",
    "        self.data = data\n",
    "        self.progenitor = progenitor\n",
    "        self.operador_mae = operador_mae\n",
    "\n",
    "    def __repr__(self):\n",
    "        return f\"Valor(data={self.data})\"\n",
    "\n",
    "    def __add__(self, outro_valor):\n",
    "        data = self.data + outro_valor.data\n",
    "        progenitor = (self, outro_valor)\n",
    "        operador_mae = \"+\"\n",
    "        saida = Valor(data, progenitor, operador_mae)\n",
    "        return saida\n",
    "\n",
    "    def __mul__(self, outro_valor):\n",
    "        data = self.data * outro_valor.data\n",
    "        progenitor = (self, outro_valor)\n",
    "        operador_mae = \"*\"\n",
    "        saida = Valor(data, progenitor, operador_mae)\n",
    "        return saida"
   ]
  },
  {
   "cell_type": "markdown",
   "metadata": {},
   "source": [
    "Vamos testar!\n",
    "\n"
   ]
  },
  {
   "cell_type": "code",
   "execution_count": 13,
   "metadata": {},
   "outputs": [
    {
     "name": "stdout",
     "output_type": "stream",
     "text": [
      "Valor(data=15)\n",
      "(Valor(data=10), Valor(data=5))\n",
      "+\n"
     ]
    }
   ],
   "source": [
    "a = Valor(10)\n",
    "b = Valor(5)\n",
    "\n",
    "c = a + b\n",
    "d = c * a\n",
    "\n",
    "print(c)\n",
    "print(c.progenitor)\n",
    "print(c.operador_mae)"
   ]
  },
  {
   "cell_type": "markdown",
   "metadata": {},
   "source": [
    "### Plotando o primeiro grafo\n",
    "\n"
   ]
  },
  {
   "cell_type": "markdown",
   "metadata": {},
   "source": [
    "Vamos plotar nosso primeiro grafo!\n",
    "\n"
   ]
  },
  {
   "cell_type": "code",
   "execution_count": 14,
   "metadata": {},
   "outputs": [
    {
     "data": {
      "image/svg+xml": [
       "<?xml version=\"1.0\" encoding=\"UTF-8\" standalone=\"no\"?>\n",
       "<!DOCTYPE svg PUBLIC \"-//W3C//DTD SVG 1.1//EN\"\n",
       " \"http://www.w3.org/Graphics/SVG/1.1/DTD/svg11.dtd\">\n",
       "<!-- Generated by graphviz version 8.0.3 (20230416.2022)\n",
       " -->\n",
       "<!-- Pages: 1 -->\n",
       "<svg width=\"515pt\" height=\"127pt\"\n",
       " viewBox=\"0.00 0.00 515.00 127.00\" xmlns=\"http://www.w3.org/2000/svg\" xmlns:xlink=\"http://www.w3.org/1999/xlink\">\n",
       "<g id=\"graph0\" class=\"graph\" transform=\"scale(1 1) rotate(0) translate(4 123)\">\n",
       "<polygon fill=\"white\" stroke=\"none\" points=\"-4,4 -4,-123 511,-123 511,4 -4,4\"/>\n",
       "<!-- 2693363479696 -->\n",
       "<g id=\"node1\" class=\"node\">\n",
       "<title>2693363479696</title>\n",
       "<polygon fill=\"none\" stroke=\"black\" points=\"426,-54.5 426,-90.5 507,-90.5 507,-54.5 426,-54.5\"/>\n",
       "<text text-anchor=\"middle\" x=\"466.5\" y=\"-68.8\" font-family=\"Times New Roman,serif\" font-size=\"14.00\">data 4.0000</text>\n",
       "</g>\n",
       "<!-- 2693363479696+ -->\n",
       "<g id=\"node2\" class=\"node\">\n",
       "<title>2693363479696+</title>\n",
       "<ellipse fill=\"none\" stroke=\"black\" cx=\"363\" cy=\"-72.5\" rx=\"27\" ry=\"18\"/>\n",
       "<text text-anchor=\"middle\" x=\"363\" y=\"-68.8\" font-family=\"Times New Roman,serif\" font-size=\"14.00\">+</text>\n",
       "</g>\n",
       "<!-- 2693363479696+&#45;&gt;2693363479696 -->\n",
       "<g id=\"edge1\" class=\"edge\">\n",
       "<title>2693363479696+&#45;&gt;2693363479696</title>\n",
       "<path fill=\"none\" stroke=\"black\" d=\"M390.4,-72.5C398.08,-72.5 406.74,-72.5 415.38,-72.5\"/>\n",
       "<polygon fill=\"black\" stroke=\"black\" points=\"415.22,-76 425.22,-72.5 415.22,-69 415.22,-76\"/>\n",
       "</g>\n",
       "<!-- 2693363481808 -->\n",
       "<g id=\"node3\" class=\"node\">\n",
       "<title>2693363481808</title>\n",
       "<polygon fill=\"none\" stroke=\"black\" points=\"2.5,-55.5 2.5,-91.5 83.5,-91.5 83.5,-55.5 2.5,-55.5\"/>\n",
       "<text text-anchor=\"middle\" x=\"43\" y=\"-69.8\" font-family=\"Times New Roman,serif\" font-size=\"14.00\">data 2.0000</text>\n",
       "</g>\n",
       "<!-- 2693363224976* -->\n",
       "<g id=\"node7\" class=\"node\">\n",
       "<title>2693363224976*</title>\n",
       "<ellipse fill=\"none\" stroke=\"black\" cx=\"149\" cy=\"-45.5\" rx=\"27\" ry=\"18\"/>\n",
       "<text text-anchor=\"middle\" x=\"149\" y=\"-41.8\" font-family=\"Times New Roman,serif\" font-size=\"14.00\">*</text>\n",
       "</g>\n",
       "<!-- 2693363481808&#45;&gt;2693363224976* -->\n",
       "<g id=\"edge3\" class=\"edge\">\n",
       "<title>2693363481808&#45;&gt;2693363224976*</title>\n",
       "<path fill=\"none\" stroke=\"black\" d=\"M83.32,-62.91C93.1,-60.28 103.51,-57.48 113.07,-54.91\"/>\n",
       "<polygon fill=\"black\" stroke=\"black\" points=\"113.66,-58.1 122.4,-52.12 111.84,-51.34 113.66,-58.1\"/>\n",
       "</g>\n",
       "<!-- 2693363482384 -->\n",
       "<g id=\"node4\" class=\"node\">\n",
       "<title>2693363482384</title>\n",
       "<polygon fill=\"none\" stroke=\"black\" points=\"212,-82.5 212,-118.5 300,-118.5 300,-82.5 212,-82.5\"/>\n",
       "<text text-anchor=\"middle\" x=\"256\" y=\"-96.8\" font-family=\"Times New Roman,serif\" font-size=\"14.00\">data 10.0000</text>\n",
       "</g>\n",
       "<!-- 2693363482384&#45;&gt;2693363479696+ -->\n",
       "<g id=\"edge6\" class=\"edge\">\n",
       "<title>2693363482384&#45;&gt;2693363479696+</title>\n",
       "<path fill=\"none\" stroke=\"black\" d=\"M299.71,-89.11C308.73,-86.71 318.15,-84.19 326.86,-81.87\"/>\n",
       "<polygon fill=\"black\" stroke=\"black\" points=\"327.65,-85.01 336.42,-79.06 325.85,-78.25 327.65,-85.01\"/>\n",
       "</g>\n",
       "<!-- 2693363478880 -->\n",
       "<g id=\"node5\" class=\"node\">\n",
       "<title>2693363478880</title>\n",
       "<polygon fill=\"none\" stroke=\"black\" points=\"0,-0.5 0,-36.5 86,-36.5 86,-0.5 0,-0.5\"/>\n",
       "<text text-anchor=\"middle\" x=\"43\" y=\"-14.8\" font-family=\"Times New Roman,serif\" font-size=\"14.00\">data &#45;3.0000</text>\n",
       "</g>\n",
       "<!-- 2693363478880&#45;&gt;2693363224976* -->\n",
       "<g id=\"edge5\" class=\"edge\">\n",
       "<title>2693363478880&#45;&gt;2693363224976*</title>\n",
       "<path fill=\"none\" stroke=\"black\" d=\"M85.7,-29.33C94.68,-31.66 104.09,-34.1 112.79,-36.36\"/>\n",
       "<polygon fill=\"black\" stroke=\"black\" points=\"111.8,-39.98 122.36,-39.1 113.56,-33.2 111.8,-39.98\"/>\n",
       "</g>\n",
       "<!-- 2693363224976 -->\n",
       "<g id=\"node6\" class=\"node\">\n",
       "<title>2693363224976</title>\n",
       "<polygon fill=\"none\" stroke=\"black\" points=\"213,-27.5 213,-63.5 299,-63.5 299,-27.5 213,-27.5\"/>\n",
       "<text text-anchor=\"middle\" x=\"256\" y=\"-41.8\" font-family=\"Times New Roman,serif\" font-size=\"14.00\">data &#45;6.0000</text>\n",
       "</g>\n",
       "<!-- 2693363224976&#45;&gt;2693363479696+ -->\n",
       "<g id=\"edge4\" class=\"edge\">\n",
       "<title>2693363224976&#45;&gt;2693363479696+</title>\n",
       "<path fill=\"none\" stroke=\"black\" d=\"M298.8,-56.25C308.07,-58.63 317.81,-61.14 326.78,-63.44\"/>\n",
       "<polygon fill=\"black\" stroke=\"black\" points=\"325.72,-67.04 336.27,-66.14 327.46,-60.26 325.72,-67.04\"/>\n",
       "</g>\n",
       "<!-- 2693363224976*&#45;&gt;2693363224976 -->\n",
       "<g id=\"edge2\" class=\"edge\">\n",
       "<title>2693363224976*&#45;&gt;2693363224976</title>\n",
       "<path fill=\"none\" stroke=\"black\" d=\"M176.5,-45.5C184.44,-45.5 193.45,-45.5 202.47,-45.5\"/>\n",
       "<polygon fill=\"black\" stroke=\"black\" points=\"202.39,-49 212.39,-45.5 202.39,-42 202.39,-49\"/>\n",
       "</g>\n",
       "</g>\n",
       "</svg>\n"
      ],
      "text/plain": [
       "<graphviz.graphs.Digraph at 0x27318f93d90>"
      ]
     },
     "execution_count": 14,
     "metadata": {},
     "output_type": "execute_result"
    }
   ],
   "source": [
    "a = Valor(2)\n",
    "b = Valor(-3)\n",
    "c = Valor(10)\n",
    "\n",
    "d = a * b\n",
    "e = d + c\n",
    "\n",
    "plota_grafo(e)"
   ]
  },
  {
   "cell_type": "markdown",
   "metadata": {},
   "source": [
    "### Registrando o rótulo\n",
    "\n"
   ]
  },
  {
   "cell_type": "markdown",
   "metadata": {},
   "source": [
    "Nosso grafo seria mais legível se tivéssemos rótulos indicando o que é cada vértice. Vamos incluir essa informação na nossa classe.\n",
    "\n"
   ]
  },
  {
   "cell_type": "code",
   "execution_count": 15,
   "metadata": {},
   "outputs": [],
   "source": [
    "class Valor:\n",
    "    def __init__(self, data, progenitor=(), operador_mae=\"\", rotulo=\"\"):\n",
    "        self.data = data\n",
    "        self.progenitor = progenitor\n",
    "        self.operador_mae = operador_mae\n",
    "        self.rotulo = rotulo\n",
    "\n",
    "    def __repr__(self):\n",
    "        return f\"Valor(data={self.data})\"\n",
    "\n",
    "    def __add__(self, outro_valor):\n",
    "        data = self.data + outro_valor.data\n",
    "        progenitor = (self, outro_valor)\n",
    "        operador_mae = \"+\"\n",
    "        saida = Valor(data, progenitor, operador_mae)\n",
    "        return saida\n",
    "\n",
    "    def __mul__(self, outro_valor):\n",
    "        data = self.data * outro_valor.data\n",
    "        progenitor = (self, outro_valor)\n",
    "        operador_mae = \"*\"\n",
    "        saida = Valor(data, progenitor, operador_mae)\n",
    "        return saida"
   ]
  },
  {
   "cell_type": "markdown",
   "metadata": {},
   "source": [
    "Vamos testar!\n",
    "\n"
   ]
  },
  {
   "cell_type": "code",
   "execution_count": 16,
   "metadata": {},
   "outputs": [
    {
     "name": "stdout",
     "output_type": "stream",
     "text": [
      "digraph {\n",
      "\tgraph [rankdir=LR]\n",
      "\t2693363504128 [label=\"{ c | data 10.0000 }\" shape=record]\n",
      "\t2693363506192 [label=\"{ b | data -3.0000 }\" shape=record]\n",
      "\t2693363433184 [label=\"{ e | data 4.0000 }\" shape=record]\n",
      "\t\"2693363433184+\" [label=\"+\"]\n",
      "\t\"2693363433184+\" -> 2693363433184\n",
      "\t2693363432752 [label=\"{ d | data -6.0000 }\" shape=record]\n",
      "\t\"2693363432752*\" [label=\"*\"]\n",
      "\t\"2693363432752*\" -> 2693363432752\n",
      "\t2693363505088 [label=\"{ a | data 2.0000 }\" shape=record]\n",
      "\t2693363432752 -> \"2693363433184+\"\n",
      "\t2693363504128 -> \"2693363433184+\"\n",
      "\t2693363505088 -> \"2693363432752*\"\n",
      "\t2693363506192 -> \"2693363432752*\"\n",
      "}\n",
      "\n"
     ]
    }
   ],
   "source": [
    "a = Valor(2, rotulo=\"a\")\n",
    "b = Valor(-3, rotulo=\"b\")\n",
    "c = Valor(10, rotulo=\"c\")\n",
    "\n",
    "d = a * b\n",
    "e = d + c\n",
    "\n",
    "d.rotulo = \"d\"\n",
    "e.rotulo = \"e\"\n",
    "\n",
    "grafo = plota_grafo(e)\n",
    "print(grafo)"
   ]
  },
  {
   "cell_type": "markdown",
   "metadata": {},
   "source": [
    "### Refazendo o grafo que fizemos na aula anterior\n",
    "\n"
   ]
  },
  {
   "cell_type": "markdown",
   "metadata": {},
   "source": [
    "Na aula anterior nós fizemos um grafo computacional para aprender como funciona o backpropagation. Vamos refazer ele aqui!\n",
    "\n"
   ]
  },
  {
   "cell_type": "code",
   "execution_count": 17,
   "metadata": {
    "tags": []
   },
   "outputs": [
    {
     "data": {
      "image/svg+xml": [
       "<?xml version=\"1.0\" encoding=\"UTF-8\" standalone=\"no\"?>\n",
       "<!DOCTYPE svg PUBLIC \"-//W3C//DTD SVG 1.1//EN\"\n",
       " \"http://www.w3.org/Graphics/SVG/1.1/DTD/svg11.dtd\">\n",
       "<!-- Generated by graphviz version 8.0.3 (20230416.2022)\n",
       " -->\n",
       "<!-- Pages: 1 -->\n",
       "<svg width=\"1117pt\" height=\"210pt\"\n",
       " viewBox=\"0.00 0.00 1117.00 210.00\" xmlns=\"http://www.w3.org/2000/svg\" xmlns:xlink=\"http://www.w3.org/1999/xlink\">\n",
       "<g id=\"graph0\" class=\"graph\" transform=\"scale(1 1) rotate(0) translate(4 206)\">\n",
       "<polygon fill=\"white\" stroke=\"none\" points=\"-4,4 -4,-206 1113,-206 1113,4 -4,4\"/>\n",
       "<!-- 2693363479600 -->\n",
       "<g id=\"node1\" class=\"node\">\n",
       "<title>2693363479600</title>\n",
       "<polygon fill=\"none\" stroke=\"black\" points=\"247,-55.5 247,-91.5 371,-91.5 371,-55.5 247,-55.5\"/>\n",
       "<text text-anchor=\"middle\" x=\"261.5\" y=\"-69.8\" font-family=\"Times New Roman,serif\" font-size=\"14.00\">s2</text>\n",
       "<polyline fill=\"none\" stroke=\"black\" points=\"276,-55.5 276,-91.5\"/>\n",
       "<text text-anchor=\"middle\" x=\"323.5\" y=\"-69.8\" font-family=\"Times New Roman,serif\" font-size=\"14.00\">data 120.0000</text>\n",
       "</g>\n",
       "<!-- 2693363479744+ -->\n",
       "<g id=\"node6\" class=\"node\">\n",
       "<title>2693363479744+</title>\n",
       "<ellipse fill=\"none\" stroke=\"black\" cx=\"434\" cy=\"-100.5\" rx=\"27\" ry=\"18\"/>\n",
       "<text text-anchor=\"middle\" x=\"434\" y=\"-96.8\" font-family=\"Times New Roman,serif\" font-size=\"14.00\">+</text>\n",
       "</g>\n",
       "<!-- 2693363479600&#45;&gt;2693363479744+ -->\n",
       "<g id=\"edge15\" class=\"edge\">\n",
       "<title>2693363479600&#45;&gt;2693363479744+</title>\n",
       "<path fill=\"none\" stroke=\"black\" d=\"M370.78,-86.84C379.77,-88.81 388.78,-90.79 397.04,-92.61\"/>\n",
       "<polygon fill=\"black\" stroke=\"black\" points=\"396.25,-96.24 406.77,-94.96 397.75,-89.4 396.25,-96.24\"/>\n",
       "</g>\n",
       "<!-- 2693363479600* -->\n",
       "<g id=\"node2\" class=\"node\">\n",
       "<title>2693363479600*</title>\n",
       "<ellipse fill=\"none\" stroke=\"black\" cx=\"184\" cy=\"-73.5\" rx=\"27\" ry=\"18\"/>\n",
       "<text text-anchor=\"middle\" x=\"184\" y=\"-69.8\" font-family=\"Times New Roman,serif\" font-size=\"14.00\">*</text>\n",
       "</g>\n",
       "<!-- 2693363479600*&#45;&gt;2693363479600 -->\n",
       "<g id=\"edge1\" class=\"edge\">\n",
       "<title>2693363479600*&#45;&gt;2693363479600</title>\n",
       "<path fill=\"none\" stroke=\"black\" d=\"M211.39,-73.5C218.86,-73.5 227.38,-73.5 236.19,-73.5\"/>\n",
       "<polygon fill=\"black\" stroke=\"black\" points=\"236.03,-77 246.03,-73.5 236.03,-70 236.03,-77\"/>\n",
       "</g>\n",
       "<!-- 2693363479648 -->\n",
       "<g id=\"node3\" class=\"node\">\n",
       "<title>2693363479648</title>\n",
       "<polygon fill=\"none\" stroke=\"black\" points=\"247,-110.5 247,-146.5 371,-146.5 371,-110.5 247,-110.5\"/>\n",
       "<text text-anchor=\"middle\" x=\"261.5\" y=\"-124.8\" font-family=\"Times New Roman,serif\" font-size=\"14.00\">s1</text>\n",
       "<polyline fill=\"none\" stroke=\"black\" points=\"276,-110.5 276,-146.5\"/>\n",
       "<text text-anchor=\"middle\" x=\"323.5\" y=\"-124.8\" font-family=\"Times New Roman,serif\" font-size=\"14.00\">data 600.0000</text>\n",
       "</g>\n",
       "<!-- 2693363479648&#45;&gt;2693363479744+ -->\n",
       "<g id=\"edge10\" class=\"edge\">\n",
       "<title>2693363479648&#45;&gt;2693363479744+</title>\n",
       "<path fill=\"none\" stroke=\"black\" d=\"M370.78,-114.66C379.95,-112.58 389.15,-110.48 397.55,-108.57\"/>\n",
       "<polygon fill=\"black\" stroke=\"black\" points=\"398.09,-111.81 407.07,-106.18 396.54,-104.98 398.09,-111.81\"/>\n",
       "</g>\n",
       "<!-- 2693363479648* -->\n",
       "<g id=\"node4\" class=\"node\">\n",
       "<title>2693363479648*</title>\n",
       "<ellipse fill=\"none\" stroke=\"black\" cx=\"184\" cy=\"-128.5\" rx=\"27\" ry=\"18\"/>\n",
       "<text text-anchor=\"middle\" x=\"184\" y=\"-124.8\" font-family=\"Times New Roman,serif\" font-size=\"14.00\">*</text>\n",
       "</g>\n",
       "<!-- 2693363479648*&#45;&gt;2693363479648 -->\n",
       "<g id=\"edge2\" class=\"edge\">\n",
       "<title>2693363479648*&#45;&gt;2693363479648</title>\n",
       "<path fill=\"none\" stroke=\"black\" d=\"M211.39,-128.5C218.86,-128.5 227.38,-128.5 236.19,-128.5\"/>\n",
       "<polygon fill=\"black\" stroke=\"black\" points=\"236.03,-132 246.03,-128.5 236.03,-125 236.03,-132\"/>\n",
       "</g>\n",
       "<!-- 2693363479744 -->\n",
       "<g id=\"node5\" class=\"node\">\n",
       "<title>2693363479744</title>\n",
       "<polygon fill=\"none\" stroke=\"black\" points=\"497,-82.5 497,-118.5 615,-118.5 615,-82.5 497,-82.5\"/>\n",
       "<text text-anchor=\"middle\" x=\"508.5\" y=\"-96.8\" font-family=\"Times New Roman,serif\" font-size=\"14.00\">n</text>\n",
       "<polyline fill=\"none\" stroke=\"black\" points=\"520,-82.5 520,-118.5\"/>\n",
       "<text text-anchor=\"middle\" x=\"567.5\" y=\"-96.8\" font-family=\"Times New Roman,serif\" font-size=\"14.00\">data 720.0000</text>\n",
       "</g>\n",
       "<!-- 2693363479312+ -->\n",
       "<g id=\"node11\" class=\"node\">\n",
       "<title>2693363479312+</title>\n",
       "<ellipse fill=\"none\" stroke=\"black\" cx=\"678\" cy=\"-127.5\" rx=\"27\" ry=\"18\"/>\n",
       "<text text-anchor=\"middle\" x=\"678\" y=\"-123.8\" font-family=\"Times New Roman,serif\" font-size=\"14.00\">+</text>\n",
       "</g>\n",
       "<!-- 2693363479744&#45;&gt;2693363479312+ -->\n",
       "<g id=\"edge8\" class=\"edge\">\n",
       "<title>2693363479744&#45;&gt;2693363479312+</title>\n",
       "<path fill=\"none\" stroke=\"black\" d=\"M614.89,-113.53C623.98,-115.57 633.12,-117.63 641.5,-119.51\"/>\n",
       "<polygon fill=\"black\" stroke=\"black\" points=\"640.48,-123.1 651.01,-121.88 642.02,-116.27 640.48,-123.1\"/>\n",
       "</g>\n",
       "<!-- 2693363479744+&#45;&gt;2693363479744 -->\n",
       "<g id=\"edge3\" class=\"edge\">\n",
       "<title>2693363479744+&#45;&gt;2693363479744</title>\n",
       "<path fill=\"none\" stroke=\"black\" d=\"M461.33,-100.5C468.89,-100.5 477.49,-100.5 486.36,-100.5\"/>\n",
       "<polygon fill=\"black\" stroke=\"black\" points=\"486.24,-104 496.24,-100.5 486.24,-97 486.24,-104\"/>\n",
       "</g>\n",
       "<!-- 2693363481280 -->\n",
       "<g id=\"node7\" class=\"node\">\n",
       "<title>2693363481280</title>\n",
       "<polygon fill=\"none\" stroke=\"black\" points=\"743,-164.5 743,-200.5 857,-200.5 857,-164.5 743,-164.5\"/>\n",
       "<text text-anchor=\"middle\" x=\"759.5\" y=\"-178.8\" font-family=\"Times New Roman,serif\" font-size=\"14.00\">w3</text>\n",
       "<polyline fill=\"none\" stroke=\"black\" points=\"776,-164.5 776,-200.5\"/>\n",
       "<text text-anchor=\"middle\" x=\"816.5\" y=\"-178.8\" font-family=\"Times New Roman,serif\" font-size=\"14.00\">data 2.0000</text>\n",
       "</g>\n",
       "<!-- 2693363480992* -->\n",
       "<g id=\"node15\" class=\"node\">\n",
       "<title>2693363480992*</title>\n",
       "<ellipse fill=\"none\" stroke=\"black\" cx=\"922\" cy=\"-154.5\" rx=\"27\" ry=\"18\"/>\n",
       "<text text-anchor=\"middle\" x=\"922\" y=\"-150.8\" font-family=\"Times New Roman,serif\" font-size=\"14.00\">*</text>\n",
       "</g>\n",
       "<!-- 2693363481280&#45;&gt;2693363480992* -->\n",
       "<g id=\"edge9\" class=\"edge\">\n",
       "<title>2693363481280&#45;&gt;2693363480992*</title>\n",
       "<path fill=\"none\" stroke=\"black\" d=\"M856.78,-169.48C866.53,-167.21 876.43,-164.9 885.44,-162.8\"/>\n",
       "<polygon fill=\"black\" stroke=\"black\" points=\"885.97,-166.03 894.92,-160.35 884.38,-159.22 885.97,-166.03\"/>\n",
       "</g>\n",
       "<!-- 2693362268384 -->\n",
       "<g id=\"node8\" class=\"node\">\n",
       "<title>2693362268384</title>\n",
       "<polygon fill=\"none\" stroke=\"black\" points=\"0,-165.5 0,-201.5 121,-201.5 121,-165.5 0,-165.5\"/>\n",
       "<text text-anchor=\"middle\" x=\"16.5\" y=\"-179.8\" font-family=\"Times New Roman,serif\" font-size=\"14.00\">w1</text>\n",
       "<polyline fill=\"none\" stroke=\"black\" points=\"33,-165.5 33,-201.5\"/>\n",
       "<text text-anchor=\"middle\" x=\"77\" y=\"-179.8\" font-family=\"Times New Roman,serif\" font-size=\"14.00\">data 10.0000</text>\n",
       "</g>\n",
       "<!-- 2693362268384&#45;&gt;2693363479648* -->\n",
       "<g id=\"edge13\" class=\"edge\">\n",
       "<title>2693362268384&#45;&gt;2693363479648*</title>\n",
       "<path fill=\"none\" stroke=\"black\" d=\"M100.95,-165.64C117.32,-158.23 136.05,-149.75 151.48,-142.77\"/>\n",
       "<polygon fill=\"black\" stroke=\"black\" points=\"152.42,-145.73 160.09,-138.42 149.53,-139.36 152.42,-145.73\"/>\n",
       "</g>\n",
       "<!-- 2693363608832 -->\n",
       "<g id=\"node9\" class=\"node\">\n",
       "<title>2693363608832</title>\n",
       "<polygon fill=\"none\" stroke=\"black\" points=\"3.5,-55.5 3.5,-91.5 117.5,-91.5 117.5,-55.5 3.5,-55.5\"/>\n",
       "<text text-anchor=\"middle\" x=\"20\" y=\"-69.8\" font-family=\"Times New Roman,serif\" font-size=\"14.00\">w2</text>\n",
       "<polyline fill=\"none\" stroke=\"black\" points=\"36.5,-55.5 36.5,-91.5\"/>\n",
       "<text text-anchor=\"middle\" x=\"77\" y=\"-69.8\" font-family=\"Times New Roman,serif\" font-size=\"14.00\">data 5.0000</text>\n",
       "</g>\n",
       "<!-- 2693363608832&#45;&gt;2693363479600* -->\n",
       "<g id=\"edge11\" class=\"edge\">\n",
       "<title>2693363608832&#45;&gt;2693363479600*</title>\n",
       "<path fill=\"none\" stroke=\"black\" d=\"M117.27,-73.5C126.92,-73.5 136.74,-73.5 145.74,-73.5\"/>\n",
       "<polygon fill=\"black\" stroke=\"black\" points=\"145.64,-77 155.64,-73.5 145.64,-70 145.64,-77\"/>\n",
       "</g>\n",
       "<!-- 2693363479312 -->\n",
       "<g id=\"node10\" class=\"node\">\n",
       "<title>2693363479312</title>\n",
       "<polygon fill=\"none\" stroke=\"black\" points=\"741,-109.5 741,-145.5 859,-145.5 859,-109.5 741,-109.5\"/>\n",
       "<text text-anchor=\"middle\" x=\"752.5\" y=\"-123.8\" font-family=\"Times New Roman,serif\" font-size=\"14.00\">k</text>\n",
       "<polyline fill=\"none\" stroke=\"black\" points=\"764,-109.5 764,-145.5\"/>\n",
       "<text text-anchor=\"middle\" x=\"811.5\" y=\"-123.8\" font-family=\"Times New Roman,serif\" font-size=\"14.00\">data 727.0000</text>\n",
       "</g>\n",
       "<!-- 2693363479312&#45;&gt;2693363480992* -->\n",
       "<g id=\"edge7\" class=\"edge\">\n",
       "<title>2693363479312&#45;&gt;2693363480992*</title>\n",
       "<path fill=\"none\" stroke=\"black\" d=\"M858.89,-140.53C867.98,-142.57 877.12,-144.63 885.5,-146.51\"/>\n",
       "<polygon fill=\"black\" stroke=\"black\" points=\"884.48,-150.1 895.01,-148.88 886.02,-143.27 884.48,-150.1\"/>\n",
       "</g>\n",
       "<!-- 2693363479312+&#45;&gt;2693363479312 -->\n",
       "<g id=\"edge4\" class=\"edge\">\n",
       "<title>2693363479312+&#45;&gt;2693363479312</title>\n",
       "<path fill=\"none\" stroke=\"black\" d=\"M705.33,-127.5C712.89,-127.5 721.49,-127.5 730.36,-127.5\"/>\n",
       "<polygon fill=\"black\" stroke=\"black\" points=\"730.24,-131 740.24,-127.5 730.24,-124 730.24,-131\"/>\n",
       "</g>\n",
       "<!-- 2693363609408 -->\n",
       "<g id=\"node12\" class=\"node\">\n",
       "<title>2693363609408</title>\n",
       "<polygon fill=\"none\" stroke=\"black\" points=\"1.5,-0.5 1.5,-36.5 119.5,-36.5 119.5,-0.5 1.5,-0.5\"/>\n",
       "<text text-anchor=\"middle\" x=\"16.5\" y=\"-14.8\" font-family=\"Times New Roman,serif\" font-size=\"14.00\">x2</text>\n",
       "<polyline fill=\"none\" stroke=\"black\" points=\"31.5,-0.5 31.5,-36.5\"/>\n",
       "<text text-anchor=\"middle\" x=\"75.5\" y=\"-14.8\" font-family=\"Times New Roman,serif\" font-size=\"14.00\">data 24.0000</text>\n",
       "</g>\n",
       "<!-- 2693363609408&#45;&gt;2693363479600* -->\n",
       "<g id=\"edge14\" class=\"edge\">\n",
       "<title>2693363609408&#45;&gt;2693363479600*</title>\n",
       "<path fill=\"none\" stroke=\"black\" d=\"M100.95,-36.36C117.32,-43.77 136.05,-52.25 151.48,-59.23\"/>\n",
       "<polygon fill=\"black\" stroke=\"black\" points=\"149.53,-62.64 160.09,-63.58 152.42,-56.27 149.53,-62.64\"/>\n",
       "</g>\n",
       "<!-- 2693363608928 -->\n",
       "<g id=\"node13\" class=\"node\">\n",
       "<title>2693363608928</title>\n",
       "<polygon fill=\"none\" stroke=\"black\" points=\"1.5,-110.5 1.5,-146.5 119.5,-146.5 119.5,-110.5 1.5,-110.5\"/>\n",
       "<text text-anchor=\"middle\" x=\"16.5\" y=\"-124.8\" font-family=\"Times New Roman,serif\" font-size=\"14.00\">x1</text>\n",
       "<polyline fill=\"none\" stroke=\"black\" points=\"31.5,-110.5 31.5,-146.5\"/>\n",
       "<text text-anchor=\"middle\" x=\"75.5\" y=\"-124.8\" font-family=\"Times New Roman,serif\" font-size=\"14.00\">data 60.0000</text>\n",
       "</g>\n",
       "<!-- 2693363608928&#45;&gt;2693363479648* -->\n",
       "<g id=\"edge6\" class=\"edge\">\n",
       "<title>2693363608928&#45;&gt;2693363479648*</title>\n",
       "<path fill=\"none\" stroke=\"black\" d=\"M119.4,-128.5C128.4,-128.5 137.47,-128.5 145.84,-128.5\"/>\n",
       "<polygon fill=\"black\" stroke=\"black\" points=\"145.74,-132 155.74,-128.5 145.74,-125 145.74,-132\"/>\n",
       "</g>\n",
       "<!-- 2693363480992 -->\n",
       "<g id=\"node14\" class=\"node\">\n",
       "<title>2693363480992</title>\n",
       "<polygon fill=\"none\" stroke=\"black\" points=\"985,-136.5 985,-172.5 1109,-172.5 1109,-136.5 985,-136.5\"/>\n",
       "<text text-anchor=\"middle\" x=\"996.5\" y=\"-150.8\" font-family=\"Times New Roman,serif\" font-size=\"14.00\">y</text>\n",
       "<polyline fill=\"none\" stroke=\"black\" points=\"1008,-136.5 1008,-172.5\"/>\n",
       "<text text-anchor=\"middle\" x=\"1058.5\" y=\"-150.8\" font-family=\"Times New Roman,serif\" font-size=\"14.00\">data 1454.0000</text>\n",
       "</g>\n",
       "<!-- 2693363480992*&#45;&gt;2693363480992 -->\n",
       "<g id=\"edge5\" class=\"edge\">\n",
       "<title>2693363480992*&#45;&gt;2693363480992</title>\n",
       "<path fill=\"none\" stroke=\"black\" d=\"M949.39,-154.5C956.86,-154.5 965.38,-154.5 974.19,-154.5\"/>\n",
       "<polygon fill=\"black\" stroke=\"black\" points=\"974.03,-158 984.03,-154.5 974.03,-151 974.03,-158\"/>\n",
       "</g>\n",
       "<!-- 2693363478976 -->\n",
       "<g id=\"node16\" class=\"node\">\n",
       "<title>2693363478976</title>\n",
       "<polygon fill=\"none\" stroke=\"black\" points=\"503.5,-137.5 503.5,-173.5 608.5,-173.5 608.5,-137.5 503.5,-137.5\"/>\n",
       "<text text-anchor=\"middle\" x=\"515.5\" y=\"-151.8\" font-family=\"Times New Roman,serif\" font-size=\"14.00\">b</text>\n",
       "<polyline fill=\"none\" stroke=\"black\" points=\"527.5,-137.5 527.5,-173.5\"/>\n",
       "<text text-anchor=\"middle\" x=\"568\" y=\"-151.8\" font-family=\"Times New Roman,serif\" font-size=\"14.00\">data 7.0000</text>\n",
       "</g>\n",
       "<!-- 2693363478976&#45;&gt;2693363479312+ -->\n",
       "<g id=\"edge12\" class=\"edge\">\n",
       "<title>2693363478976&#45;&gt;2693363479312+</title>\n",
       "<path fill=\"none\" stroke=\"black\" d=\"M608.24,-143.54C619.49,-140.92 631.16,-138.2 641.63,-135.75\"/>\n",
       "<polygon fill=\"black\" stroke=\"black\" points=\"642.08,-139.01 651.03,-133.33 640.49,-132.19 642.08,-139.01\"/>\n",
       "</g>\n",
       "</g>\n",
       "</svg>\n"
      ],
      "text/plain": [
       "<graphviz.graphs.Digraph at 0x27318f93f70>"
      ]
     },
     "execution_count": 17,
     "metadata": {},
     "output_type": "execute_result"
    }
   ],
   "source": [
    "x1 = Valor(60, rotulo=\"x1\")\n",
    "x2 = Valor(24, rotulo=\"x2\")\n",
    "w1 = Valor(10, rotulo=\"w1\")\n",
    "w2 = Valor(5, rotulo=\"w2\")\n",
    "w3 = Valor(2, rotulo=\"w3\")\n",
    "b = Valor(7, rotulo=\"b\")\n",
    "\n",
    "s1 = x1 * w1\n",
    "s1.rotulo = \"s1\"\n",
    "\n",
    "s2 = x2 * w2\n",
    "s2.rotulo = \"s2\"\n",
    "\n",
    "n = s1 + s2\n",
    "n.rotulo = \"n\"\n",
    "\n",
    "k = n + b\n",
    "k.rotulo = \"k\"\n",
    "\n",
    "y = k * w3\n",
    "y.rotulo = \"y\"\n",
    "\n",
    "plota_grafo(y)"
   ]
  },
  {
   "cell_type": "markdown",
   "metadata": {
    "tags": []
   },
   "source": [
    "## Conclusão\n",
    "\n"
   ]
  },
  {
   "cell_type": "markdown",
   "metadata": {},
   "source": [
    "Neste experimento, focamos na representação de grafos, especialmente os vistos na primeira aula de Redes Neurais, onde são representadas as operações e o sentido a ser seguido. Através da implementação desses métodos especiais, podemos criar uma estrutura que permite a composição e conexão de operações matemáticas de maneira intuitiva. Cada objeto da classe pode representar um nó em um grafo, e ao realizar a operação desejada, os nós progenitores são armazenados, juntamente com a operação mãe e o rótulo correspondente.\n",
    "\n",
    "Para executar operações com os valores definidos nas classes, foi necessário definir internamente as operações por meio dos métodos \"dunders\" delimitados por dois sublinhados, como __add__ para a adição. Essa construção é fundamental, uma vez que precisaremos calcular o backpropagation do código.\n",
    "\n",
    "Plotando o grafo, utilizando o módulo Graphviz do Python, conseguimos representar graficamente o grafo da primeira aula de Redes Neurais, com exceção da representação do gradiente.\n",
    "\n",
    "Essas técnicas nos permitiram visualizar e compreender melhor a estrutura e o fluxo de informações dentro de redes neurais, facilitando o estudo e a implementação de algoritmos de aprendizado de máquina mais avançados."
   ]
  },
  {
   "cell_type": "markdown",
   "metadata": {},
   "source": [
    "## Playground\n",
    "\n"
   ]
  }
 ],
 "metadata": {
  "kernelspec": {
   "display_name": "ilumpy",
   "language": "python",
   "name": "ilumpy"
  },
  "language_info": {
   "codemirror_mode": {
    "name": "ipython",
    "version": 3
   },
   "file_extension": ".py",
   "mimetype": "text/x-python",
   "name": "python",
   "nbconvert_exporter": "python",
   "pygments_lexer": "ipython3",
   "version": "3.9.7"
  },
  "org": null
 },
 "nbformat": 4,
 "nbformat_minor": 4
}
