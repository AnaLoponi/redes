{
 "cells": [
  {
   "cell_type": "markdown",
   "metadata": {},
   "source": [
    "Finalizando a classe Valor\n",
    "==========================\n",
    "\n"
   ]
  },
  {
   "cell_type": "markdown",
   "metadata": {},
   "source": [
    "## Introdução\n",
    "\n"
   ]
  },
  {
   "cell_type": "markdown",
   "metadata": {},
   "source": [
    "Chegou a hora de finalizar a classe `Valor`!\n",
    "\n"
   ]
  },
  {
   "cell_type": "markdown",
   "metadata": {},
   "source": [
    "## Objetivo\n",
    "\n"
   ]
  },
  {
   "cell_type": "markdown",
   "metadata": {},
   "source": [
    "O objetivo é fazer com que a classe `Valor` seja capaz de realizar algumas operações necessárias para que seja usada na nossa rede neural artificial.\n",
    "\n"
   ]
  },
  {
   "cell_type": "markdown",
   "metadata": {},
   "source": [
    "## Importações\n",
    "\n"
   ]
  },
  {
   "cell_type": "code",
   "execution_count": 1,
   "metadata": {},
   "outputs": [],
   "source": [
    "import math\n",
    "from funcoes import plota_grafo"
   ]
  },
  {
   "cell_type": "markdown",
   "metadata": {},
   "source": [
    "## Código e discussão\n",
    "\n"
   ]
  },
  {
   "cell_type": "markdown",
   "metadata": {},
   "source": [
    "### Finalizando a classe `Valor`\n",
    "\n"
   ]
  },
  {
   "cell_type": "markdown",
   "metadata": {},
   "source": [
    "Aqui está a classe `Valor` assim como feita na aula anterior. Vamos modificá-la para cumprir nossos objetivos (ver objetivos na próxima seção).\n",
    "\n"
   ]
  },
  {
   "cell_type": "code",
   "execution_count": 2,
   "metadata": {},
   "outputs": [],
   "source": [
    "class Valor:\n",
    "    def __init__(self, data, progenitor=(), operador_mae=\"\", rotulo=\"\"):\n",
    "        self.data = data\n",
    "        self.progenitor = progenitor\n",
    "        self.operador_mae = operador_mae\n",
    "        self.rotulo = rotulo\n",
    "        self.grad = 0\n",
    "\n",
    "    def __repr__(self):\n",
    "        return f\"Valor(data={self.data})\"\n",
    "\n",
    "    def __add__(self, outro_valor):\n",
    "        if not isinstance(outro_valor, Valor):\n",
    "            outro_valor = Valor(outro_valor)\n",
    "        data = self.data + outro_valor.data\n",
    "        progenitor = (self, outro_valor)\n",
    "        operador_mae = \"+\"\n",
    "        saida = Valor(data, progenitor, operador_mae)\n",
    "\n",
    "        def propagar_adicao():\n",
    "            self.grad += saida.grad * 1\n",
    "            outro_valor.grad += saida.grad * 1\n",
    "\n",
    "        saida.propagar = propagar_adicao\n",
    "\n",
    "        return saida\n",
    "    \n",
    "    def __radd__(self, outro_valor): # outro_valor + self\n",
    "        return self + outro_valor\n",
    "\n",
    "    def __mul__(self, outro_valor):\n",
    "        if not isinstance(outro_valor, Valor):\n",
    "            outro_valor = Valor(outro_valor)\n",
    "        data = self.data * outro_valor.data\n",
    "        progenitor = (self, outro_valor)\n",
    "        operador_mae = \"*\"\n",
    "        saida = Valor(data, progenitor, operador_mae)\n",
    "\n",
    "        def propagar_multiplicacao():\n",
    "            self.grad += saida.grad * outro_valor.data\n",
    "            outro_valor.grad += saida.grad * self.data\n",
    "\n",
    "        saida.propagar = propagar_multiplicacao\n",
    "\n",
    "        return saida\n",
    "    \n",
    "    def __rmul__(self, outro_valor): # outro_valor * self\n",
    "        return self * outro_valor\n",
    "    \n",
    "    def __pow__(self, expoente):  # self ** expoente\n",
    "        \n",
    "        assert isinstance(expoente, (int, float))\n",
    "\n",
    "        data = self.data ** expoente\n",
    "        progenitor = (self, )\n",
    "        operador_mae = f\"**{expoente}\"\n",
    "        saida = Valor(data, progenitor, operador_mae)\n",
    "\n",
    "        def propagar_exponenciacao():\n",
    "            self.grad += saida.grad * expoente * (self.data ** (expoente - 1))\n",
    "\n",
    "        saida.propagar = propagar_exponenciacao\n",
    "\n",
    "        return saida\n",
    "    \n",
    "    def __truediv__(self, outro_valor): # self / outro_valor\n",
    "        return self * outro_valor ** (-1)\n",
    "    \n",
    "    def __neg__(self):  # - self\n",
    "        return self * (-1)\n",
    "    \n",
    "    def __sub__(self, outro_valor):  # self - outro_valor\n",
    "        return self + (-outro_valor)\n",
    "    \n",
    "    def __rsub__(self, outro_valor):  # outro_valor - self\n",
    "        return self * (-1) + outro_valor\n",
    "    \n",
    "    def exp(self):\n",
    "\n",
    "        data = math.exp(self.data)\n",
    "        progenitor = (self, )\n",
    "        operador_mae = \"exp\"\n",
    "        saida = Valor(data, progenitor, operador_mae)\n",
    "\n",
    "        def propagar_exp():\n",
    "            self.grad += saida.grad * data\n",
    "\n",
    "        saida.propagar = propagar_exp\n",
    "\n",
    "        return saida\n",
    "    \n",
    "    def sig(self): \n",
    "        return self.exp() / (self.exp() + 1)\n",
    "\n",
    "    def propagar(self):\n",
    "        pass\n",
    "\n",
    "    def propagar_tudo(self):\n",
    "        ordem_topologica = []\n",
    "        visitados = set()\n",
    "\n",
    "        def constroi_ordem_topologica(v):\n",
    "            if v not in visitados:\n",
    "                visitados.add(v)\n",
    "                for progenitor in v.progenitor:\n",
    "                    constroi_ordem_topologica(progenitor)\n",
    "                ordem_topologica.append(v)\n",
    "\n",
    "        constroi_ordem_topologica(self)\n",
    "\n",
    "        self.grad = 1  # o gradiente do vértice folha deve ser 1\n",
    "\n",
    "        for v in reversed(ordem_topologica):\n",
    "            v.propagar()"
   ]
  },
  {
   "cell_type": "markdown",
   "metadata": {},
   "source": [
    "### Objetivos a serem cumpridos\n",
    "\n"
   ]
  },
  {
   "cell_type": "markdown",
   "metadata": {},
   "source": [
    "Quero poder acidionar uma instância de `Valor` com uma constante qualquer.\n",
    "\n"
   ]
  },
  {
   "cell_type": "code",
   "execution_count": 3,
   "metadata": {},
   "outputs": [
    {
     "data": {
      "text/plain": [
       "Valor(data=11)"
      ]
     },
     "execution_count": 3,
     "metadata": {},
     "output_type": "execute_result"
    }
   ],
   "source": [
    "a = Valor(10, rotulo=\"a\")\n",
    "b = a + 1\n",
    "a.__add__(1)"
   ]
  },
  {
   "cell_type": "markdown",
   "metadata": {},
   "source": [
    "Quero poder multiplicar uma instância de `Valor` com uma constante qualquer.\n",
    "\n"
   ]
  },
  {
   "cell_type": "code",
   "execution_count": 4,
   "metadata": {},
   "outputs": [
    {
     "name": "stdout",
     "output_type": "stream",
     "text": [
      "Valor(data=100)\n"
     ]
    }
   ],
   "source": [
    "a = Valor(10, rotulo=\"a\")\n",
    "b = a * 10\n",
    "print(b)"
   ]
  },
  {
   "cell_type": "markdown",
   "metadata": {},
   "source": [
    "Quero poder acidionar uma instância de `Valor` com uma constante qualquer, mas na ordem oposta.\n",
    "\n"
   ]
  },
  {
   "cell_type": "code",
   "execution_count": 5,
   "metadata": {},
   "outputs": [
    {
     "name": "stdout",
     "output_type": "stream",
     "text": [
      "Valor(data=11)\n"
     ]
    }
   ],
   "source": [
    "a = Valor(10, rotulo=\"a\")\n",
    "b = 1 + a\n",
    "print(b)"
   ]
  },
  {
   "cell_type": "markdown",
   "metadata": {},
   "source": [
    "Quero poder multiplicar uma instância de `Valor` com uma constante qualquer, mas na ordem oposta.\n",
    "\n"
   ]
  },
  {
   "cell_type": "code",
   "execution_count": 6,
   "metadata": {},
   "outputs": [
    {
     "name": "stdout",
     "output_type": "stream",
     "text": [
      "Valor(data=100)\n"
     ]
    }
   ],
   "source": [
    "a = Valor(10, rotulo=\"a\")\n",
    "b = 10 * a\n",
    "print(b)"
   ]
  },
  {
   "cell_type": "markdown",
   "metadata": {},
   "source": [
    "Quero poder aplicar a função exponencial ($e^x$) em uma instância de `Valor`, computando corretamente o gradiente local desta operação.\n",
    "\n"
   ]
  },
  {
   "cell_type": "code",
   "execution_count": 7,
   "metadata": {},
   "outputs": [
    {
     "name": "stdout",
     "output_type": "stream",
     "text": [
      "Valor(data=2.718281828459045)\n"
     ]
    }
   ],
   "source": [
    "a = Valor(1, rotulo=\"a\")\n",
    "b = a.exp()\n",
    "print(b)"
   ]
  },
  {
   "cell_type": "markdown",
   "metadata": {},
   "source": [
    "Quero poder elevar uma instância de `Valor` a um número real qualquer. **Nota**: não vai funcionar se fizer um `Valor` elevado a outro `Valor` pois vamos propagar os gradientes apenas considerando que estamos elevando a uma constante qualquer.\n",
    "\n"
   ]
  },
  {
   "cell_type": "code",
   "execution_count": 8,
   "metadata": {},
   "outputs": [
    {
     "name": "stdout",
     "output_type": "stream",
     "text": [
      "Valor(data=100)\n"
     ]
    }
   ],
   "source": [
    "a = Valor(10, rotulo=\"a\")\n",
    "b = a**2\n",
    "print(b)"
   ]
  },
  {
   "cell_type": "markdown",
   "metadata": {},
   "source": [
    "Quero poder dividir uma instância de `Valor` por outra instância de `Valor`.\n",
    "\n"
   ]
  },
  {
   "cell_type": "code",
   "execution_count": 9,
   "metadata": {},
   "outputs": [
    {
     "name": "stdout",
     "output_type": "stream",
     "text": [
      "Valor(data=0.5)\n"
     ]
    },
    {
     "data": {
      "image/svg+xml": [
       "<?xml version=\"1.0\" encoding=\"UTF-8\" standalone=\"no\"?>\n",
       "<!DOCTYPE svg PUBLIC \"-//W3C//DTD SVG 1.1//EN\"\n",
       " \"http://www.w3.org/Graphics/SVG/1.1/DTD/svg11.dtd\">\n",
       "<!-- Generated by graphviz version 8.0.3 (20230416.2022)\n",
       " -->\n",
       "<!-- Pages: 1 -->\n",
       "<svg width=\"819pt\" height=\"100pt\"\n",
       " viewBox=\"0.00 0.00 819.00 100.00\" xmlns=\"http://www.w3.org/2000/svg\" xmlns:xlink=\"http://www.w3.org/1999/xlink\">\n",
       "<g id=\"graph0\" class=\"graph\" transform=\"scale(1 1) rotate(0) translate(4 96)\">\n",
       "<polygon fill=\"white\" stroke=\"none\" points=\"-4,4 -4,-96 815,-96 815,4 -4,4\"/>\n",
       "<!-- 1559516058240 -->\n",
       "<g id=\"node1\" class=\"node\">\n",
       "<title>1559516058240</title>\n",
       "<polygon fill=\"none\" stroke=\"black\" points=\"0,-55.5 0,-91.5 188,-91.5 188,-55.5 0,-55.5\"/>\n",
       "<text text-anchor=\"middle\" x=\"12\" y=\"-69.8\" font-family=\"Times New Roman,serif\" font-size=\"14.00\">b</text>\n",
       "<polyline fill=\"none\" stroke=\"black\" points=\"24,-55.5 24,-91.5\"/>\n",
       "<text text-anchor=\"middle\" x=\"64.5\" y=\"-69.8\" font-family=\"Times New Roman,serif\" font-size=\"14.00\">data 2.0000</text>\n",
       "<polyline fill=\"none\" stroke=\"black\" points=\"105,-55.5 105,-91.5\"/>\n",
       "<text text-anchor=\"middle\" x=\"146.5\" y=\"-69.8\" font-family=\"Times New Roman,serif\" font-size=\"14.00\">grad 0.0000</text>\n",
       "</g>\n",
       "<!-- 1559516058720**&#45;1 -->\n",
       "<g id=\"node6\" class=\"node\">\n",
       "<title>1559516058720**&#45;1</title>\n",
       "<ellipse fill=\"none\" stroke=\"black\" cx=\"251\" cy=\"-73.5\" rx=\"27\" ry=\"18\"/>\n",
       "<text text-anchor=\"middle\" x=\"251\" y=\"-69.8\" font-family=\"Times New Roman,serif\" font-size=\"14.00\">**&#45;1</text>\n",
       "</g>\n",
       "<!-- 1559516058240&#45;&gt;1559516058720**&#45;1 -->\n",
       "<g id=\"edge5\" class=\"edge\">\n",
       "<title>1559516058240&#45;&gt;1559516058720**&#45;1</title>\n",
       "<path fill=\"none\" stroke=\"black\" d=\"M187.85,-73.5C196.6,-73.5 205.08,-73.5 212.81,-73.5\"/>\n",
       "<polygon fill=\"black\" stroke=\"black\" points=\"212.56,-77 222.56,-73.5 212.56,-70 212.56,-77\"/>\n",
       "</g>\n",
       "<!-- 1559516059296 -->\n",
       "<g id=\"node2\" class=\"node\">\n",
       "<title>1559516059296</title>\n",
       "<polygon fill=\"none\" stroke=\"black\" points=\"627,-27.5 627,-63.5 811,-63.5 811,-27.5 627,-27.5\"/>\n",
       "<text text-anchor=\"middle\" x=\"637\" y=\"-41.8\" font-family=\"Times New Roman,serif\" font-size=\"14.00\"> </text>\n",
       "<polyline fill=\"none\" stroke=\"black\" points=\"647,-27.5 647,-63.5\"/>\n",
       "<text text-anchor=\"middle\" x=\"687.5\" y=\"-41.8\" font-family=\"Times New Roman,serif\" font-size=\"14.00\">data 0.5000</text>\n",
       "<polyline fill=\"none\" stroke=\"black\" points=\"728,-27.5 728,-63.5\"/>\n",
       "<text text-anchor=\"middle\" x=\"769.5\" y=\"-41.8\" font-family=\"Times New Roman,serif\" font-size=\"14.00\">grad 0.0000</text>\n",
       "</g>\n",
       "<!-- 1559516059296* -->\n",
       "<g id=\"node3\" class=\"node\">\n",
       "<title>1559516059296*</title>\n",
       "<ellipse fill=\"none\" stroke=\"black\" cx=\"564\" cy=\"-45.5\" rx=\"27\" ry=\"18\"/>\n",
       "<text text-anchor=\"middle\" x=\"564\" y=\"-41.8\" font-family=\"Times New Roman,serif\" font-size=\"14.00\">*</text>\n",
       "</g>\n",
       "<!-- 1559516059296*&#45;&gt;1559516059296 -->\n",
       "<g id=\"edge1\" class=\"edge\">\n",
       "<title>1559516059296*&#45;&gt;1559516059296</title>\n",
       "<path fill=\"none\" stroke=\"black\" d=\"M591.3,-45.5C598.73,-45.5 607.29,-45.5 616.39,-45.5\"/>\n",
       "<polygon fill=\"black\" stroke=\"black\" points=\"616.27,-49 626.27,-45.5 616.27,-42 616.27,-49\"/>\n",
       "</g>\n",
       "<!-- 1559516060352 -->\n",
       "<g id=\"node4\" class=\"node\">\n",
       "<title>1559516060352</title>\n",
       "<polygon fill=\"none\" stroke=\"black\" points=\"314,-0.5 314,-36.5 501,-36.5 501,-0.5 314,-0.5\"/>\n",
       "<text text-anchor=\"middle\" x=\"325.5\" y=\"-14.8\" font-family=\"Times New Roman,serif\" font-size=\"14.00\">a</text>\n",
       "<polyline fill=\"none\" stroke=\"black\" points=\"337,-0.5 337,-36.5\"/>\n",
       "<text text-anchor=\"middle\" x=\"377.5\" y=\"-14.8\" font-family=\"Times New Roman,serif\" font-size=\"14.00\">data 1.0000</text>\n",
       "<polyline fill=\"none\" stroke=\"black\" points=\"418,-0.5 418,-36.5\"/>\n",
       "<text text-anchor=\"middle\" x=\"459.5\" y=\"-14.8\" font-family=\"Times New Roman,serif\" font-size=\"14.00\">grad 0.0000</text>\n",
       "</g>\n",
       "<!-- 1559516060352&#45;&gt;1559516059296* -->\n",
       "<g id=\"edge4\" class=\"edge\">\n",
       "<title>1559516060352&#45;&gt;1559516059296*</title>\n",
       "<path fill=\"none\" stroke=\"black\" d=\"M500.6,-34.6C509.74,-36.19 518.59,-37.74 526.61,-39.14\"/>\n",
       "<polygon fill=\"black\" stroke=\"black\" points=\"525.89,-42.74 536.35,-41.02 527.1,-35.85 525.89,-42.74\"/>\n",
       "</g>\n",
       "<!-- 1559516058720 -->\n",
       "<g id=\"node5\" class=\"node\">\n",
       "<title>1559516058720</title>\n",
       "<polygon fill=\"none\" stroke=\"black\" points=\"315.5,-55.5 315.5,-91.5 499.5,-91.5 499.5,-55.5 315.5,-55.5\"/>\n",
       "<text text-anchor=\"middle\" x=\"325.5\" y=\"-69.8\" font-family=\"Times New Roman,serif\" font-size=\"14.00\"> </text>\n",
       "<polyline fill=\"none\" stroke=\"black\" points=\"335.5,-55.5 335.5,-91.5\"/>\n",
       "<text text-anchor=\"middle\" x=\"376\" y=\"-69.8\" font-family=\"Times New Roman,serif\" font-size=\"14.00\">data 0.5000</text>\n",
       "<polyline fill=\"none\" stroke=\"black\" points=\"416.5,-55.5 416.5,-91.5\"/>\n",
       "<text text-anchor=\"middle\" x=\"458\" y=\"-69.8\" font-family=\"Times New Roman,serif\" font-size=\"14.00\">grad 0.0000</text>\n",
       "</g>\n",
       "<!-- 1559516058720&#45;&gt;1559516059296* -->\n",
       "<g id=\"edge3\" class=\"edge\">\n",
       "<title>1559516058720&#45;&gt;1559516059296*</title>\n",
       "<path fill=\"none\" stroke=\"black\" d=\"M499.27,-57.05C509.04,-55.28 518.52,-53.56 527.04,-52.02\"/>\n",
       "<polygon fill=\"black\" stroke=\"black\" points=\"527.43,-55.32 536.65,-50.09 526.18,-48.43 527.43,-55.32\"/>\n",
       "</g>\n",
       "<!-- 1559516058720**&#45;1&#45;&gt;1559516058720 -->\n",
       "<g id=\"edge2\" class=\"edge\">\n",
       "<title>1559516058720**&#45;1&#45;&gt;1559516058720</title>\n",
       "<path fill=\"none\" stroke=\"black\" d=\"M278.21,-73.5C286.05,-73.5 295.16,-73.5 304.84,-73.5\"/>\n",
       "<polygon fill=\"black\" stroke=\"black\" points=\"304.53,-77 314.53,-73.5 304.53,-70 304.53,-77\"/>\n",
       "</g>\n",
       "</g>\n",
       "</svg>\n"
      ],
      "text/plain": [
       "<graphviz.graphs.Digraph at 0x16b1a649bb0>"
      ]
     },
     "execution_count": 9,
     "metadata": {},
     "output_type": "execute_result"
    }
   ],
   "source": [
    "a = Valor(1, rotulo=\"a\")\n",
    "b = Valor(2, rotulo=\"b\")\n",
    "c = a / b\n",
    "print(c)\n",
    "\n",
    "plota_grafo(c)"
   ]
  },
  {
   "cell_type": "markdown",
   "metadata": {},
   "source": [
    "Quero poder computar o negativo de uma instância de `Valor`.\n",
    "\n"
   ]
  },
  {
   "cell_type": "code",
   "execution_count": 10,
   "metadata": {},
   "outputs": [
    {
     "name": "stdout",
     "output_type": "stream",
     "text": [
      "Valor(data=-1)\n"
     ]
    }
   ],
   "source": [
    "a = Valor(1, rotulo=\"a\")\n",
    "b = -a\n",
    "print(b)"
   ]
  },
  {
   "cell_type": "markdown",
   "metadata": {},
   "source": [
    "Quero poder subtrair uma instância de `Valor` por outra instância de `Valor`.\n",
    "\n"
   ]
  },
  {
   "cell_type": "code",
   "execution_count": 11,
   "metadata": {},
   "outputs": [
    {
     "name": "stdout",
     "output_type": "stream",
     "text": [
      "Valor(data=7)\n"
     ]
    }
   ],
   "source": [
    "a = Valor(10, rotulo=\"a\")\n",
    "b = Valor(3, rotulo=\"b\")\n",
    "c = a - b\n",
    "print(c)"
   ]
  },
  {
   "cell_type": "markdown",
   "metadata": {},
   "source": [
    "E, finalmente, quero poder aplicar a função sigmoide (também conhecida como logística) a uma instância de `Valor`. A função sigmoide é a seguinte:\n",
    "\n",
    "$$\n",
    "S(x) = \\frac{e^x}{e^x + 1}\n",
    "$$\n",
    "\n"
   ]
  },
  {
   "cell_type": "code",
   "execution_count": 12,
   "metadata": {},
   "outputs": [
    {
     "name": "stdout",
     "output_type": "stream",
     "text": [
      "Valor(data=0.7310585786300048)\n"
     ]
    },
    {
     "data": {
      "image/svg+xml": [
       "<?xml version=\"1.0\" encoding=\"UTF-8\" standalone=\"no\"?>\n",
       "<!DOCTYPE svg PUBLIC \"-//W3C//DTD SVG 1.1//EN\"\n",
       " \"http://www.w3.org/Graphics/SVG/1.1/DTD/svg11.dtd\">\n",
       "<!-- Generated by graphviz version 8.0.3 (20230416.2022)\n",
       " -->\n",
       "<!-- Pages: 1 -->\n",
       "<svg width=\"1573pt\" height=\"147pt\"\n",
       " viewBox=\"0.00 0.00 1573.00 147.00\" xmlns=\"http://www.w3.org/2000/svg\" xmlns:xlink=\"http://www.w3.org/1999/xlink\">\n",
       "<g id=\"graph0\" class=\"graph\" transform=\"scale(1 1) rotate(0) translate(4 143)\">\n",
       "<polygon fill=\"white\" stroke=\"none\" points=\"-4,4 -4,-143 1569,-143 1569,4 -4,4\"/>\n",
       "<!-- 1559516198464 -->\n",
       "<g id=\"node1\" class=\"node\">\n",
       "<title>1559516198464</title>\n",
       "<polygon fill=\"none\" stroke=\"black\" points=\"1071,-53.5 1071,-89.5 1255,-89.5 1255,-53.5 1071,-53.5\"/>\n",
       "<text text-anchor=\"middle\" x=\"1081\" y=\"-67.8\" font-family=\"Times New Roman,serif\" font-size=\"14.00\"> </text>\n",
       "<polyline fill=\"none\" stroke=\"black\" points=\"1091,-53.5 1091,-89.5\"/>\n",
       "<text text-anchor=\"middle\" x=\"1131.5\" y=\"-67.8\" font-family=\"Times New Roman,serif\" font-size=\"14.00\">data 0.2689</text>\n",
       "<polyline fill=\"none\" stroke=\"black\" points=\"1172,-53.5 1172,-89.5\"/>\n",
       "<text text-anchor=\"middle\" x=\"1213.5\" y=\"-67.8\" font-family=\"Times New Roman,serif\" font-size=\"14.00\">grad 2.7183</text>\n",
       "</g>\n",
       "<!-- 1559516198656* -->\n",
       "<g id=\"node6\" class=\"node\">\n",
       "<title>1559516198656*</title>\n",
       "<ellipse fill=\"none\" stroke=\"black\" cx=\"1318\" cy=\"-45.5\" rx=\"27\" ry=\"18\"/>\n",
       "<text text-anchor=\"middle\" x=\"1318\" y=\"-41.8\" font-family=\"Times New Roman,serif\" font-size=\"14.00\">*</text>\n",
       "</g>\n",
       "<!-- 1559516198464&#45;&gt;1559516198656* -->\n",
       "<g id=\"edge10\" class=\"edge\">\n",
       "<title>1559516198464&#45;&gt;1559516198656*</title>\n",
       "<path fill=\"none\" stroke=\"black\" d=\"M1254.77,-56.08C1263.87,-54.53 1272.68,-53.03 1280.68,-51.67\"/>\n",
       "<polygon fill=\"black\" stroke=\"black\" points=\"1281.12,-54.98 1290.39,-49.85 1279.95,-48.08 1281.12,-54.98\"/>\n",
       "</g>\n",
       "<!-- 1559516198464**&#45;1 -->\n",
       "<g id=\"node2\" class=\"node\">\n",
       "<title>1559516198464**&#45;1</title>\n",
       "<ellipse fill=\"none\" stroke=\"black\" cx=\"1008\" cy=\"-71.5\" rx=\"27\" ry=\"18\"/>\n",
       "<text text-anchor=\"middle\" x=\"1008\" y=\"-67.8\" font-family=\"Times New Roman,serif\" font-size=\"14.00\">**&#45;1</text>\n",
       "</g>\n",
       "<!-- 1559516198464**&#45;1&#45;&gt;1559516198464 -->\n",
       "<g id=\"edge1\" class=\"edge\">\n",
       "<title>1559516198464**&#45;1&#45;&gt;1559516198464</title>\n",
       "<path fill=\"none\" stroke=\"black\" d=\"M1035.3,-71.5C1042.73,-71.5 1051.29,-71.5 1060.39,-71.5\"/>\n",
       "<polygon fill=\"black\" stroke=\"black\" points=\"1060.27,-75 1070.27,-71.5 1060.27,-68 1060.27,-75\"/>\n",
       "</g>\n",
       "<!-- 1559516198032 -->\n",
       "<g id=\"node3\" class=\"node\">\n",
       "<title>1559516198032</title>\n",
       "<polygon fill=\"none\" stroke=\"black\" points=\"313,-102.5 313,-138.5 501,-138.5 501,-102.5 313,-102.5\"/>\n",
       "<text text-anchor=\"middle\" x=\"323\" y=\"-116.8\" font-family=\"Times New Roman,serif\" font-size=\"14.00\"> </text>\n",
       "<polyline fill=\"none\" stroke=\"black\" points=\"333,-102.5 333,-138.5\"/>\n",
       "<text text-anchor=\"middle\" x=\"373.5\" y=\"-116.8\" font-family=\"Times New Roman,serif\" font-size=\"14.00\">data 2.7183</text>\n",
       "<polyline fill=\"none\" stroke=\"black\" points=\"414,-102.5 414,-138.5\"/>\n",
       "<text text-anchor=\"middle\" x=\"457.5\" y=\"-116.8\" font-family=\"Times New Roman,serif\" font-size=\"14.00\">grad &#45;0.1966</text>\n",
       "</g>\n",
       "<!-- 1559516198272+ -->\n",
       "<g id=\"node11\" class=\"node\">\n",
       "<title>1559516198272+</title>\n",
       "<ellipse fill=\"none\" stroke=\"black\" cx=\"629\" cy=\"-73.5\" rx=\"27\" ry=\"18\"/>\n",
       "<text text-anchor=\"middle\" x=\"629\" y=\"-69.8\" font-family=\"Times New Roman,serif\" font-size=\"14.00\">+</text>\n",
       "</g>\n",
       "<!-- 1559516198032&#45;&gt;1559516198272+ -->\n",
       "<g id=\"edge7\" class=\"edge\">\n",
       "<title>1559516198032&#45;&gt;1559516198272+</title>\n",
       "<path fill=\"none\" stroke=\"black\" d=\"M492.11,-102.53C526.87,-95.1 565.28,-86.9 592.37,-81.11\"/>\n",
       "<polygon fill=\"black\" stroke=\"black\" points=\"592.84,-84.38 601.89,-78.87 591.38,-77.53 592.84,-84.38\"/>\n",
       "</g>\n",
       "<!-- 1559516198032exp -->\n",
       "<g id=\"node4\" class=\"node\">\n",
       "<title>1559516198032exp</title>\n",
       "<ellipse fill=\"none\" stroke=\"black\" cx=\"250\" cy=\"-108.5\" rx=\"27\" ry=\"18\"/>\n",
       "<text text-anchor=\"middle\" x=\"250\" y=\"-104.8\" font-family=\"Times New Roman,serif\" font-size=\"14.00\">exp</text>\n",
       "</g>\n",
       "<!-- 1559516198032exp&#45;&gt;1559516198032 -->\n",
       "<g id=\"edge2\" class=\"edge\">\n",
       "<title>1559516198032exp&#45;&gt;1559516198032</title>\n",
       "<path fill=\"none\" stroke=\"black\" d=\"M277.29,-110.54C284.68,-111.11 293.19,-111.77 302.25,-112.47\"/>\n",
       "<polygon fill=\"black\" stroke=\"black\" points=\"301.85,-116.02 312.09,-113.31 302.39,-109.05 301.85,-116.02\"/>\n",
       "</g>\n",
       "<!-- 1559516198656 -->\n",
       "<g id=\"node5\" class=\"node\">\n",
       "<title>1559516198656</title>\n",
       "<polygon fill=\"none\" stroke=\"black\" points=\"1381,-27.5 1381,-63.5 1565,-63.5 1565,-27.5 1381,-27.5\"/>\n",
       "<text text-anchor=\"middle\" x=\"1391\" y=\"-41.8\" font-family=\"Times New Roman,serif\" font-size=\"14.00\"> </text>\n",
       "<polyline fill=\"none\" stroke=\"black\" points=\"1401,-27.5 1401,-63.5\"/>\n",
       "<text text-anchor=\"middle\" x=\"1441.5\" y=\"-41.8\" font-family=\"Times New Roman,serif\" font-size=\"14.00\">data 0.7311</text>\n",
       "<polyline fill=\"none\" stroke=\"black\" points=\"1482,-27.5 1482,-63.5\"/>\n",
       "<text text-anchor=\"middle\" x=\"1523.5\" y=\"-41.8\" font-family=\"Times New Roman,serif\" font-size=\"14.00\">grad 1.0000</text>\n",
       "</g>\n",
       "<!-- 1559516198656*&#45;&gt;1559516198656 -->\n",
       "<g id=\"edge3\" class=\"edge\">\n",
       "<title>1559516198656*&#45;&gt;1559516198656</title>\n",
       "<path fill=\"none\" stroke=\"black\" d=\"M1345.3,-45.5C1352.73,-45.5 1361.29,-45.5 1370.39,-45.5\"/>\n",
       "<polygon fill=\"black\" stroke=\"black\" points=\"1370.27,-49 1380.27,-45.5 1370.27,-42 1370.27,-49\"/>\n",
       "</g>\n",
       "<!-- 1559516197648 -->\n",
       "<g id=\"node7\" class=\"node\">\n",
       "<title>1559516197648</title>\n",
       "<polygon fill=\"none\" stroke=\"black\" points=\"537,-0.5 537,-36.5 721,-36.5 721,-0.5 537,-0.5\"/>\n",
       "<text text-anchor=\"middle\" x=\"547\" y=\"-14.8\" font-family=\"Times New Roman,serif\" font-size=\"14.00\"> </text>\n",
       "<polyline fill=\"none\" stroke=\"black\" points=\"557,-0.5 557,-36.5\"/>\n",
       "<text text-anchor=\"middle\" x=\"597.5\" y=\"-14.8\" font-family=\"Times New Roman,serif\" font-size=\"14.00\">data 2.7183</text>\n",
       "<polyline fill=\"none\" stroke=\"black\" points=\"638,-0.5 638,-36.5\"/>\n",
       "<text text-anchor=\"middle\" x=\"679.5\" y=\"-14.8\" font-family=\"Times New Roman,serif\" font-size=\"14.00\">grad 0.2689</text>\n",
       "</g>\n",
       "<!-- 1559516197648&#45;&gt;1559516198656* -->\n",
       "<g id=\"edge11\" class=\"edge\">\n",
       "<title>1559516197648&#45;&gt;1559516198656*</title>\n",
       "<path fill=\"none\" stroke=\"black\" d=\"M720.87,-22.07C873.42,-28.07 1174.63,-39.9 1279.75,-44.04\"/>\n",
       "<polygon fill=\"black\" stroke=\"black\" points=\"1279.6,-47.57 1289.73,-44.47 1279.87,-40.58 1279.6,-47.57\"/>\n",
       "</g>\n",
       "<!-- 1559516197648exp -->\n",
       "<g id=\"node8\" class=\"node\">\n",
       "<title>1559516197648exp</title>\n",
       "<ellipse fill=\"none\" stroke=\"black\" cx=\"250\" cy=\"-42.5\" rx=\"27\" ry=\"18\"/>\n",
       "<text text-anchor=\"middle\" x=\"250\" y=\"-38.8\" font-family=\"Times New Roman,serif\" font-size=\"14.00\">exp</text>\n",
       "</g>\n",
       "<!-- 1559516197648exp&#45;&gt;1559516197648 -->\n",
       "<g id=\"edge4\" class=\"edge\">\n",
       "<title>1559516197648exp&#45;&gt;1559516197648</title>\n",
       "<path fill=\"none\" stroke=\"black\" d=\"M277.24,-40.27C288.28,-39.36 301.26,-38.33 313,-37.5 384.28,-32.48 464.68,-27.64 526.42,-24.1\"/>\n",
       "<polygon fill=\"black\" stroke=\"black\" points=\"526.55,-27.55 536.33,-23.48 526.15,-20.56 526.55,-27.55\"/>\n",
       "</g>\n",
       "<!-- 1559516198224 -->\n",
       "<g id=\"node9\" class=\"node\">\n",
       "<title>1559516198224</title>\n",
       "<polygon fill=\"none\" stroke=\"black\" points=\"313,-47.5 313,-83.5 501,-83.5 501,-47.5 313,-47.5\"/>\n",
       "<text text-anchor=\"middle\" x=\"323\" y=\"-61.8\" font-family=\"Times New Roman,serif\" font-size=\"14.00\"> </text>\n",
       "<polyline fill=\"none\" stroke=\"black\" points=\"333,-47.5 333,-83.5\"/>\n",
       "<text text-anchor=\"middle\" x=\"373.5\" y=\"-61.8\" font-family=\"Times New Roman,serif\" font-size=\"14.00\">data 1.0000</text>\n",
       "<polyline fill=\"none\" stroke=\"black\" points=\"414,-47.5 414,-83.5\"/>\n",
       "<text text-anchor=\"middle\" x=\"457.5\" y=\"-61.8\" font-family=\"Times New Roman,serif\" font-size=\"14.00\">grad &#45;0.1966</text>\n",
       "</g>\n",
       "<!-- 1559516198224&#45;&gt;1559516198272+ -->\n",
       "<g id=\"edge6\" class=\"edge\">\n",
       "<title>1559516198224&#45;&gt;1559516198272+</title>\n",
       "<path fill=\"none\" stroke=\"black\" d=\"M500.98,-68.88C532.71,-70.03 566.38,-71.26 591.07,-72.16\"/>\n",
       "<polygon fill=\"black\" stroke=\"black\" points=\"590.63,-75.68 600.75,-72.55 590.88,-68.68 590.63,-75.68\"/>\n",
       "</g>\n",
       "<!-- 1559516198272 -->\n",
       "<g id=\"node10\" class=\"node\">\n",
       "<title>1559516198272</title>\n",
       "<polygon fill=\"none\" stroke=\"black\" points=\"757,-54.5 757,-90.5 945,-90.5 945,-54.5 757,-54.5\"/>\n",
       "<text text-anchor=\"middle\" x=\"767\" y=\"-68.8\" font-family=\"Times New Roman,serif\" font-size=\"14.00\"> </text>\n",
       "<polyline fill=\"none\" stroke=\"black\" points=\"777,-54.5 777,-90.5\"/>\n",
       "<text text-anchor=\"middle\" x=\"817.5\" y=\"-68.8\" font-family=\"Times New Roman,serif\" font-size=\"14.00\">data 3.7183</text>\n",
       "<polyline fill=\"none\" stroke=\"black\" points=\"858,-54.5 858,-90.5\"/>\n",
       "<text text-anchor=\"middle\" x=\"901.5\" y=\"-68.8\" font-family=\"Times New Roman,serif\" font-size=\"14.00\">grad &#45;0.1966</text>\n",
       "</g>\n",
       "<!-- 1559516198272&#45;&gt;1559516198464**&#45;1 -->\n",
       "<g id=\"edge9\" class=\"edge\">\n",
       "<title>1559516198272&#45;&gt;1559516198464**&#45;1</title>\n",
       "<path fill=\"none\" stroke=\"black\" d=\"M944.85,-71.9C953.6,-71.84 962.08,-71.79 969.81,-71.74\"/>\n",
       "<polygon fill=\"black\" stroke=\"black\" points=\"969.58,-75.24 979.56,-71.67 969.54,-68.24 969.58,-75.24\"/>\n",
       "</g>\n",
       "<!-- 1559516198272+&#45;&gt;1559516198272 -->\n",
       "<g id=\"edge5\" class=\"edge\">\n",
       "<title>1559516198272+&#45;&gt;1559516198272</title>\n",
       "<path fill=\"none\" stroke=\"black\" d=\"M656.1,-73.38C678.7,-73.28 712.92,-73.12 746.36,-72.97\"/>\n",
       "<polygon fill=\"black\" stroke=\"black\" points=\"746.18,-76.47 756.17,-72.92 746.15,-69.47 746.18,-76.47\"/>\n",
       "</g>\n",
       "<!-- 1559516198896 -->\n",
       "<g id=\"node12\" class=\"node\">\n",
       "<title>1559516198896</title>\n",
       "<polygon fill=\"none\" stroke=\"black\" points=\"0,-51.5 0,-87.5 187,-87.5 187,-51.5 0,-51.5\"/>\n",
       "<text text-anchor=\"middle\" x=\"11.5\" y=\"-65.8\" font-family=\"Times New Roman,serif\" font-size=\"14.00\">a</text>\n",
       "<polyline fill=\"none\" stroke=\"black\" points=\"23,-51.5 23,-87.5\"/>\n",
       "<text text-anchor=\"middle\" x=\"63.5\" y=\"-65.8\" font-family=\"Times New Roman,serif\" font-size=\"14.00\">data 1.0000</text>\n",
       "<polyline fill=\"none\" stroke=\"black\" points=\"104,-51.5 104,-87.5\"/>\n",
       "<text text-anchor=\"middle\" x=\"145.5\" y=\"-65.8\" font-family=\"Times New Roman,serif\" font-size=\"14.00\">grad 0.1966</text>\n",
       "</g>\n",
       "<!-- 1559516198896&#45;&gt;1559516198032exp -->\n",
       "<g id=\"edge12\" class=\"edge\">\n",
       "<title>1559516198896&#45;&gt;1559516198032exp</title>\n",
       "<path fill=\"none\" stroke=\"black\" d=\"M165.42,-87.4C182.23,-91.65 199.45,-95.99 213.86,-99.63\"/>\n",
       "<polygon fill=\"black\" stroke=\"black\" points=\"212.72,-103.2 223.27,-102.26 214.43,-96.42 212.72,-103.2\"/>\n",
       "</g>\n",
       "<!-- 1559516198896&#45;&gt;1559516197648exp -->\n",
       "<g id=\"edge8\" class=\"edge\">\n",
       "<title>1559516198896&#45;&gt;1559516197648exp</title>\n",
       "<path fill=\"none\" stroke=\"black\" d=\"M186.6,-53.4C195.74,-51.81 204.59,-50.26 212.61,-48.86\"/>\n",
       "<polygon fill=\"black\" stroke=\"black\" points=\"213.1,-52.15 222.35,-46.98 211.89,-45.26 213.1,-52.15\"/>\n",
       "</g>\n",
       "</g>\n",
       "</svg>\n"
      ],
      "text/plain": [
       "<graphviz.graphs.Digraph at 0x16b1a68b8e0>"
      ]
     },
     "execution_count": 12,
     "metadata": {},
     "output_type": "execute_result"
    }
   ],
   "source": [
    "a = Valor(1, rotulo=\"a\")\n",
    "b = a.sig()\n",
    "print(b)\n",
    "b.propagar_tudo()\n",
    "plota_grafo(b)"
   ]
  },
  {
   "cell_type": "markdown",
   "metadata": {},
   "source": [
    "## Conclusão\n",
    "\n"
   ]
  },
  {
   "cell_type": "markdown",
   "metadata": {},
   "source": [
    "Neste notebook, a classe Valor passou por modificações significativas para atender aos objetivos estabelecidos. Agora, é possível realizar operações mais complexas, como adição, multiplicação, exponenciação, divisão e aplicação da função sigmoide. Essas adições ampliaram a funcionalidade da classe, permitindo cálculos mais avançados e a correta computação do gradiente local em cada operação. Essas atualizações são essenciais para a construção de redes neurais poderosas e eficientes, pois expandem as possibilidades de modelagem e análise de dados.\n",
    "\n",
    "Em resumo, as modificações realizadas na classe Valor forneceram uma base sólida para o processamento de operações matemáticas avançadas e o cálculo do gradiente local em redes neurais. Isso permite que a rede lide com uma variedade maior de tarefas e utilize recursos matemáticos fundamentais para o aprendizado de máquina. Essas melhorias são um passo importante para a construção de uma rede neural mais completa e capaz de lidar com problemas mais complexos."
   ]
  },
  {
   "cell_type": "markdown",
   "metadata": {},
   "source": [
    "## Playground\n",
    "\n"
   ]
  }
 ],
 "metadata": {
  "kernelspec": {
   "display_name": "ilumpy",
   "language": "python",
   "name": "ilumpy"
  },
  "language_info": {
   "codemirror_mode": {
    "name": "ipython",
    "version": 3
   },
   "file_extension": ".py",
   "mimetype": "text/x-python",
   "name": "python",
   "nbconvert_exporter": "python",
   "pygments_lexer": "ipython3",
   "version": "3.9.7"
  },
  "org": null
 },
 "nbformat": 4,
 "nbformat_minor": 4
}
